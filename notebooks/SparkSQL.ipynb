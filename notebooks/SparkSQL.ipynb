{
 "metadata": {
  "kernelspec": {
   "display_name": "Python 2",
   "language": "python",
   "name": "python2"
  },
  "language_info": {
   "codemirror_mode": {
    "name": "ipython",
    "version": 2
   },
   "file_extension": ".py",
   "mimetype": "text/x-python",
   "name": "python",
   "nbconvert_exporter": "python",
   "pygments_lexer": "ipython2",
   "version": "2.7.11"
  },
  "name": ""
 },
 "nbformat": 3,
 "nbformat_minor": 0,
 "worksheets": [
  {
   "cells": [
    {
     "cell_type": "markdown",
     "metadata": {},
     "source": [
      "#\u6ce8\u610f\u4e8b\u9805:\n",
      "#\u7576\u60a8\u57f7\u884c\u672cNotebook\u7684\u7a0b\u5f0f\u5f8c\uff0c\u5982\u679c\u4f60\u8981\u95dc\u9589Notebook\uff0c\u8acb\u9078\u64c7\u9078\u55ae: File > Close and Halt    \u624d\u80fd\u78ba\u5be6\u505c\u6b62\u76ee\u524d\u6b63\u5728\u57f7\u884c\u7684\u7a0b\u5f0f\uff0c\u4e26\u4e14\u91cb\u653e\u8cc7\u6e90\n",
      "#\u5982\u679c\u60a8\u6c92\u6709\u4f7f\u7528\u4ee5\u4e0a\u65b9\u6cd5\uff0c\u53ea\u95dc\u9589\u6b64\u5206\u9801\uff0c\u7a0b\u5f0f\u4ecd\u5728\u57f7\u884c\uff0c\u672a\u91cb\u653e\u8cc7\u6e90\uff0c\u7576\u60a8\u958b\u555f\u4e26\u57f7\u884c\u5176\u4ed6\u7684Notebook\u6642\uff0c\u53ef\u80fd\u6703\u767c\u751f\u932f\u8aa4"
     ]
    },
    {
     "cell_type": "code",
     "collapsed": false,
     "input": [
      "sc.master"
     ],
     "language": "python",
     "metadata": {},
     "outputs": [],
     "prompt_number": 1
    },
    {
     "cell_type": "code",
     "collapsed": true,
     "input": [
      "global Path    \n",
      "if sc.master[0:5]==\"local\" :\n",
      "   Path=\"file:/home/spark/pythonsparkexample/PythonProject/\"\n",
      "else:   \n",
      "   Path=\"hdfs://master:9000/user/hduser/\"\n",
      "#\u5982\u679c\u60a8\u8981\u5728cluster\u6a21\u5f0f\u57f7\u884c(hadoop yarn \u6216Spark Stand alone)\uff0c\u8acb\u4f9d\u7167\u66f8\u4e0a\u8aaa\u660e\uff0c\u5148\u4e0a\u50b3\u6a94\u6848\u81f3HDFS\u76ee\u9304"
     ],
     "language": "python",
     "metadata": {},
     "outputs": [],
     "prompt_number": 2
    },
    {
     "cell_type": "markdown",
     "metadata": {},
     "source": [
      "# 19.3\t\u5efa\u7acbRDD\u3001DataFrame\u8207Spark SQL tempTable\n"
     ]
    },
    {
     "cell_type": "code",
     "collapsed": true,
     "input": [
      "#Step 1  \u8b80\u53d6\u6587\u5b57\u6a94,\u5efa\u7acbRDD"
     ],
     "language": "python",
     "metadata": {},
     "outputs": [],
     "prompt_number": 3
    },
    {
     "cell_type": "code",
     "collapsed": false,
     "input": [
      "RawUserRDD= sc.textFile(Path+\"data/u.user\")"
     ],
     "language": "python",
     "metadata": {},
     "outputs": [],
     "prompt_number": 4
    },
    {
     "cell_type": "code",
     "collapsed": false,
     "input": [
      "RawUserRDD.count()"
     ],
     "language": "python",
     "metadata": {},
     "outputs": [],
     "prompt_number": 5
    },
    {
     "cell_type": "code",
     "collapsed": false,
     "input": [
      "RawUserRDD.take(15)"
     ],
     "language": "python",
     "metadata": {},
     "outputs": [],
     "prompt_number": 14
    },
    {
     "cell_type": "code",
     "collapsed": false,
     "input": [
      "userRDD =RawUserRDD.map(lambda line: line.split(\"|\"))\n",
      "userRDD .take(5)"
     ],
     "language": "python",
     "metadata": {},
     "outputs": [],
     "prompt_number": 8
    },
    {
     "cell_type": "heading",
     "level": 1,
     "metadata": {},
     "source": [
      "\u5efa\u7acbDataFrame"
     ]
    },
    {
     "cell_type": "code",
     "collapsed": false,
     "input": [
      "sqlContext = SparkSession.builder.getOrCreate()"
     ],
     "language": "python",
     "metadata": {},
     "outputs": [],
     "prompt_number": 9
    },
    {
     "cell_type": "code",
     "collapsed": false,
     "input": [
      "from pyspark.sql import Row\n",
      "user_Rows = userRDD.map(lambda p:\n",
      "     Row(\n",
      "         userid=int(p[0]), \n",
      "         age=int(p[1]),\n",
      "         gender=p[2],\n",
      "         occupation=p[3],\n",
      "         zipcode=p[4]\n",
      "    )\n",
      ")\n",
      "user_Rows.take(5)"
     ],
     "language": "python",
     "metadata": {},
     "outputs": [],
     "prompt_number": 10
    },
    {
     "cell_type": "code",
     "collapsed": false,
     "input": [
      "user_df = sqlContext.createDataFrame(user_Rows)\n",
      "user_df .printSchema()"
     ],
     "language": "python",
     "metadata": {},
     "outputs": [],
     "prompt_number": 11
    },
    {
     "cell_type": "code",
     "collapsed": false,
     "input": [
      "user_df.show(15)"
     ],
     "language": "python",
     "metadata": {},
     "outputs": [],
     "prompt_number": 13
    },
    {
     "cell_type": "code",
     "collapsed": false,
     "input": [
      "df=user_df.alias(\"df\")\n",
      "df.show(5)"
     ],
     "language": "python",
     "metadata": {},
     "outputs": [],
     "prompt_number": 15
    },
    {
     "cell_type": "heading",
     "level": 1,
     "metadata": {},
     "source": [
      "\u5efa\u7acbSpark SQL tempTable"
     ]
    },
    {
     "cell_type": "code",
     "collapsed": false,
     "input": [
      "user_df.registerTempTable(\"user_table\")"
     ],
     "language": "python",
     "metadata": {},
     "outputs": [],
     "prompt_number": 16
    },
    {
     "cell_type": "code",
     "collapsed": false,
     "input": [
      "sqlContext.sql(\" SELECT count(*) counts FROM user_table\").show()"
     ],
     "language": "python",
     "metadata": {},
     "outputs": [],
     "prompt_number": 17
    },
    {
     "cell_type": "code",
     "collapsed": false,
     "input": [
      "sqlContext.sql(\"\"\"\n",
      "SELECT count(*) counts \n",
      "FROM   user_table\n",
      "\"\"\").show()"
     ],
     "language": "python",
     "metadata": {},
     "outputs": [],
     "prompt_number": 18
    },
    {
     "cell_type": "code",
     "collapsed": false,
     "input": [
      "sqlContext.sql(\" SELECT *  FROM user_table \").show()"
     ],
     "language": "python",
     "metadata": {},
     "outputs": [],
     "prompt_number": 19
    },
    {
     "cell_type": "code",
     "collapsed": false,
     "input": [
      "sqlContext.sql(\" SELECT *  FROM user_table\").show(5)"
     ],
     "language": "python",
     "metadata": {},
     "outputs": [],
     "prompt_number": 20
    },
    {
     "cell_type": "code",
     "collapsed": false,
     "input": [
      "sqlContext.sql(\" SELECT *  FROM user_table LIMIT 5\").show()"
     ],
     "language": "python",
     "metadata": {},
     "outputs": [],
     "prompt_number": 21
    },
    {
     "cell_type": "heading",
     "level": 1,
     "metadata": {},
     "source": [
      "19.3\t\u986f\u793a\u90e8\u5206\u6b04\u4f4d"
     ]
    },
    {
     "cell_type": "code",
     "collapsed": false,
     "input": [
      "userRDDnew= userRDD.map(lambda x: (x[0],x[3],x[2] ,x[1]) )\n",
      "userRDDnew.take(5)"
     ],
     "language": "python",
     "metadata": {},
     "outputs": [],
     "prompt_number": 22
    },
    {
     "cell_type": "code",
     "collapsed": false,
     "input": [
      "user_df.select(\"userid\",\"occupation\",\"gender\",\"age\").show(5)"
     ],
     "language": "python",
     "metadata": {},
     "outputs": [],
     "prompt_number": 23
    },
    {
     "cell_type": "code",
     "collapsed": false,
     "input": [
      "user_df.select( user_df.userid, user_df.occupation,user_df.gender,user_df.age ).show(5)"
     ],
     "language": "python",
     "metadata": {},
     "outputs": [],
     "prompt_number": 24
    },
    {
     "cell_type": "code",
     "collapsed": false,
     "input": [
      "df.select(df.userid,df.occupation,df.gender,df.age  ).show(5)"
     ],
     "language": "python",
     "metadata": {},
     "outputs": [],
     "prompt_number": 25
    },
    {
     "cell_type": "code",
     "collapsed": false,
     "input": [
      "user_df.select(user_df.userid, user_df.occupation,df.gender,df.age ).show(5)"
     ],
     "language": "python",
     "metadata": {},
     "outputs": [],
     "prompt_number": 26
    },
    {
     "cell_type": "code",
     "collapsed": false,
     "input": [
      "df[df['userid'],df['occupation'],df['gender'],df['age']  ].show(5)"
     ],
     "language": "python",
     "metadata": {},
     "outputs": [],
     "prompt_number": 27
    },
    {
     "cell_type": "code",
     "collapsed": false,
     "input": [
      "sqlContext.sql(\" SELECT userid,occupation,gender,age  FROM user_table\").show(5)"
     ],
     "language": "python",
     "metadata": {},
     "outputs": [],
     "prompt_number": 28
    },
    {
     "cell_type": "heading",
     "level": 1,
     "metadata": {},
     "source": [
      "19.4 \u589e\u52a0\u8a08\u7b97\u6b04\u4f4d"
     ]
    },
    {
     "cell_type": "code",
     "collapsed": false,
     "input": [
      "userRDDnew= userRDD.map(lambda x: (x[0],x[3],x[2],x[1] ,2016-int(x[1])) )\n",
      "userRDDnew.take(5)"
     ],
     "language": "python",
     "metadata": {},
     "outputs": [],
     "prompt_number": 29
    },
    {
     "cell_type": "code",
     "collapsed": false,
     "input": [
      "df.select(\"userid\",\"occupation\",\"gender\",\"age\",2016-df.age).show(5)"
     ],
     "language": "python",
     "metadata": {},
     "outputs": [],
     "prompt_number": 30
    },
    {
     "cell_type": "code",
     "collapsed": false,
     "input": [
      "df.select(\"userid\",\"occupation\",\"gender\",\"age\",(2016-df.age).alias(\"birthyear\")).show(5)"
     ],
     "language": "python",
     "metadata": {},
     "outputs": [],
     "prompt_number": 31
    },
    {
     "cell_type": "code",
     "collapsed": false,
     "input": [
      "sqlContext.sql(\"\"\"\n",
      "SELECT userid,occupation,gender,age,2016-age birthyear \n",
      "FROM user_table\"\"\").show(5)"
     ],
     "language": "python",
     "metadata": {},
     "outputs": [],
     "prompt_number": 32
    },
    {
     "cell_type": "heading",
     "level": 1,
     "metadata": {},
     "source": [
      "19.5\u7be9\u9078\u8cc7\u6599"
     ]
    },
    {
     "cell_type": "code",
     "collapsed": false,
     "input": [
      "userRDD.filter(lambda r:   r[3]=='technician' and r[2]=='M' and r[1]=='24').take(6)    "
     ],
     "language": "python",
     "metadata": {},
     "outputs": [],
     "prompt_number": 33
    },
    {
     "cell_type": "code",
     "collapsed": false,
     "input": [
      "user_df.filter(\"occupation='technician' \").filter(\"gender='M' \").filter(\"age=24\").show()"
     ],
     "language": "python",
     "metadata": {},
     "outputs": [],
     "prompt_number": 34
    },
    {
     "cell_type": "code",
     "collapsed": false,
     "input": [
      "user_df.filter(\"occupation='technician' and gender='M' and age=24\").show()"
     ],
     "language": "python",
     "metadata": {},
     "outputs": [],
     "prompt_number": 35
    },
    {
     "cell_type": "code",
     "collapsed": false,
     "input": [
      "df.filter((df.occupation=='technician' ) & (df.gender=='M' ) & (df.age==24)).show()"
     ],
     "language": "python",
     "metadata": {},
     "outputs": [],
     "prompt_number": 36
    },
    {
     "cell_type": "code",
     "collapsed": false,
     "input": [
      "df.filter((df['occupation']=='technician' ) & (df['gender']=='M' ) & (df['age']==24)).show()"
     ],
     "language": "python",
     "metadata": {},
     "outputs": [],
     "prompt_number": 37
    },
    {
     "cell_type": "code",
     "collapsed": false,
     "input": [
      "#Step3 \u4f7f\u7528Spark SQL \u7be9\u9078\u8cc7\u6599"
     ],
     "language": "python",
     "metadata": {},
     "outputs": [],
     "prompt_number": 38
    },
    {
     "cell_type": "code",
     "collapsed": false,
     "input": [
      "sqlContext.sql(\n",
      "'''SELECT *  \n",
      "FROM user_table \n",
      "where occupation='technician' and   gender='M' and age=24''').show(5)"
     ],
     "language": "python",
     "metadata": {},
     "outputs": [],
     "prompt_number": 39
    },
    {
     "cell_type": "heading",
     "level": 1,
     "metadata": {},
     "source": [
      "19.6 \u7be9\u9078\u8cc7\u6599"
     ]
    },
    {
     "cell_type": "code",
     "collapsed": false,
     "input": [
      "#Step1 \u4f7f\u7528\u591a\u500bfilter\u7be9\u9078\u8cc7\u6599\n",
      "user_df.filter(\"occupation='technician' \").filter(\"gender='M' \").filter(\"age=24\").show(5)"
     ],
     "language": "python",
     "metadata": {},
     "outputs": [],
     "prompt_number": 40
    },
    {
     "cell_type": "code",
     "collapsed": false,
     "input": [
      "user_df.filter(\"occupation='technician' and gender='M' and age=24\").show()"
     ],
     "language": "python",
     "metadata": {},
     "outputs": [],
     "prompt_number": 41
    },
    {
     "cell_type": "code",
     "collapsed": false,
     "input": [
      "user_df.filter(user_df.occupation=='technician' ).filter(user_df.gender=='M' ).filter(user_df.age==24).show()"
     ],
     "language": "python",
     "metadata": {},
     "outputs": [],
     "prompt_number": 42
    },
    {
     "cell_type": "code",
     "collapsed": false,
     "input": [
      "user_df.filter((df.occupation=='technician' ) & (df.gender=='M' ) & (df.age==24)).show()"
     ],
     "language": "python",
     "metadata": {},
     "outputs": [],
     "prompt_number": 43
    },
    {
     "cell_type": "code",
     "collapsed": false,
     "input": [
      "df.filter((df['occupation']=='technician' ) & (df['gender']=='M' ) &  (df['age']==24)).show()"
     ],
     "language": "python",
     "metadata": {},
     "outputs": [],
     "prompt_number": 44
    },
    {
     "cell_type": "heading",
     "level": 1,
     "metadata": {},
     "source": [
      "19.6 \u55ae\u4e00\u6b04\u4f4d\u6392\u5e8f\u8cc7\u6599"
     ]
    },
    {
     "cell_type": "code",
     "collapsed": false,
     "input": [
      "userRDD.takeOrdered(5, key = lambda x: int(x[1]))"
     ],
     "language": "python",
     "metadata": {},
     "outputs": [],
     "prompt_number": 45
    },
    {
     "cell_type": "code",
     "collapsed": false,
     "input": [
      "userRDD.takeOrdered(5, key = lambda x: -1*int(x[1]))"
     ],
     "language": "python",
     "metadata": {},
     "outputs": [],
     "prompt_number": 46
    },
    {
     "cell_type": "code",
     "collapsed": false,
     "input": [
      "sqlContext.sql(\"\"\"\n",
      "SELECT userid,occupation,gender,age   \n",
      "FROM user_table \n",
      "ORDER BY age\"\"\").show(5)"
     ],
     "language": "python",
     "metadata": {},
     "outputs": [],
     "prompt_number": 47
    },
    {
     "cell_type": "code",
     "collapsed": false,
     "input": [
      "sqlContext.sql(\"\"\"\n",
      "SELECT userid,occupation,gender,age   \n",
      "FROM user_table \n",
      "ORDER BY age DESC\"\"\").show(5)"
     ],
     "language": "python",
     "metadata": {},
     "outputs": [],
     "prompt_number": 48
    },
    {
     "cell_type": "code",
     "collapsed": false,
     "input": [
      "user_df.select(\"userid\",\"occupation\",\"gender\",\"age\").orderBy(\"age\").show(5)"
     ],
     "language": "python",
     "metadata": {},
     "outputs": [],
     "prompt_number": 49
    },
    {
     "cell_type": "code",
     "collapsed": false,
     "input": [
      "df.select(\"userid\",\"occupation\",\"gender\",\"age\").orderBy(\"age\",ascending=0 ).show(5)"
     ],
     "language": "python",
     "metadata": {},
     "outputs": [],
     "prompt_number": 50
    },
    {
     "cell_type": "code",
     "collapsed": false,
     "input": [
      "df.select(\"userid\",\"occupation\",\"gender\",\"age\").orderBy(df.age).show(5)"
     ],
     "language": "python",
     "metadata": {},
     "outputs": [],
     "prompt_number": 51
    },
    {
     "cell_type": "code",
     "collapsed": false,
     "input": [
      "df.select(\"userid\",\"occupation\",\"gender\",\"age\").orderBy(df.age.desc()).show(5)"
     ],
     "language": "python",
     "metadata": {},
     "outputs": [],
     "prompt_number": 52
    },
    {
     "cell_type": "heading",
     "level": 1,
     "metadata": {},
     "source": [
      "19.7 \u591a\u6b04\u4f4d\u6392\u5e8f\u8cc7\u6599"
     ]
    },
    {
     "cell_type": "code",
     "collapsed": false,
     "input": [
      "userRDD.takeOrdered(5, key = lambda x: (-int(x[1]), x[2] ) )"
     ],
     "language": "python",
     "metadata": {},
     "outputs": [],
     "prompt_number": 53
    },
    {
     "cell_type": "code",
     "collapsed": false,
     "input": [
      "sqlContext.sql(\"\"\"\n",
      "SELECT userid, age, gender,occupation,zipcode\n",
      "FROM user_table\n",
      "ORDER BY age DESC,gender \"\"\").show(5)"
     ],
     "language": "python",
     "metadata": {},
     "outputs": [],
     "prompt_number": 54
    },
    {
     "cell_type": "code",
     "collapsed": false,
     "input": [
      "df.orderBy([\"age\",\"gender\"],ascending=[0,1] ).show(5)"
     ],
     "language": "python",
     "metadata": {},
     "outputs": [],
     "prompt_number": 55
    },
    {
     "cell_type": "code",
     "collapsed": false,
     "input": [
      "df.orderBy(df.age.desc(),df.gender ).show(5)"
     ],
     "language": "python",
     "metadata": {},
     "outputs": [],
     "prompt_number": 56
    },
    {
     "cell_type": "heading",
     "level": 1,
     "metadata": {},
     "source": [
      "19.8 \u986f\u793a\u4e0d\u91cd\u8907\u8cc7\u6599"
     ]
    },
    {
     "cell_type": "code",
     "collapsed": false,
     "input": [
      "userRDD.map( lambda x:x[2] ).distinct().collect()"
     ],
     "language": "python",
     "metadata": {},
     "outputs": [],
     "prompt_number": 57
    },
    {
     "cell_type": "code",
     "collapsed": false,
     "input": [
      "userRDD.map( lambda x:(x[1],x[2]) ).distinct().take(20)"
     ],
     "language": "python",
     "metadata": {},
     "outputs": [],
     "prompt_number": 58
    },
    {
     "cell_type": "code",
     "collapsed": false,
     "input": [
      "sqlContext.sql(\" SELECT distinct gender FROM user_table\").show()"
     ],
     "language": "python",
     "metadata": {},
     "outputs": [],
     "prompt_number": 59
    },
    {
     "cell_type": "code",
     "collapsed": false,
     "input": [
      "sqlContext.sql(\" SELECT distinct age,gender  FROM user_table\").show()"
     ],
     "language": "python",
     "metadata": {},
     "outputs": [],
     "prompt_number": 60
    },
    {
     "cell_type": "code",
     "collapsed": false,
     "input": [
      "user_df.select(\"gender\").distinct().show()"
     ],
     "language": "python",
     "metadata": {},
     "outputs": [],
     "prompt_number": 61
    },
    {
     "cell_type": "code",
     "collapsed": false,
     "input": [
      "user_df.select(\"age\",\"gender\").distinct().show()"
     ],
     "language": "python",
     "metadata": {},
     "outputs": [],
     "prompt_number": 62
    },
    {
     "cell_type": "heading",
     "level": 1,
     "metadata": {},
     "source": [
      "19.9\t\u7fa4\u7d44\u7d71\u8a08\u8cc7\u6599"
     ]
    },
    {
     "cell_type": "code",
     "collapsed": false,
     "input": [
      "userRDD.map(lambda x: (x[2],1)) \\\n",
      "               .reduceByKey(lambda x,y: x+y).collect()"
     ],
     "language": "python",
     "metadata": {},
     "outputs": [],
     "prompt_number": 63
    },
    {
     "cell_type": "code",
     "collapsed": false,
     "input": [
      "userRDD.map(lambda x: ((x[2],x[3]),1)).reduceByKey(lambda x,y: x+y).collect()"
     ],
     "language": "python",
     "metadata": {},
     "outputs": [],
     "prompt_number": 64
    },
    {
     "cell_type": "code",
     "collapsed": false,
     "input": [
      "sqlContext.sql(\"\"\" \n",
      "SELECT gender ,count(*)  counts  \n",
      "FROM   user_table \n",
      "GROUP BY gender\"\"\").show()"
     ],
     "language": "python",
     "metadata": {},
     "outputs": [],
     "prompt_number": 65
    },
    {
     "cell_type": "code",
     "collapsed": false,
     "input": [
      "sqlContext.sql(\"\"\" \n",
      "SELECT gender,occupation,count(*) counts  \n",
      "FROM   user_table \n",
      "GROUP BY gender,occupation \n",
      "\"\"\").show(100)"
     ],
     "language": "python",
     "metadata": {},
     "outputs": [],
     "prompt_number": 66
    },
    {
     "cell_type": "code",
     "collapsed": false,
     "input": [
      "user_df.select(\"gender\")      \\\n",
      "            .groupby(\"gender\")  \\\n",
      "            .count().show()  "
     ],
     "language": "python",
     "metadata": {},
     "outputs": [],
     "prompt_number": 67
    },
    {
     "cell_type": "code",
     "collapsed": false,
     "input": [
      "user_df.select(\"gender\",\"occupation\").                 \\\n",
      "                groupby(\"gender\",\"occupation\").           \\\n",
      "                count().                                                   \\\n",
      "                orderBy(\"gender\",\"occupation\").           \\\n",
      "                show(100)"
     ],
     "language": "python",
     "metadata": {},
     "outputs": [],
     "prompt_number": 68
    },
    {
     "cell_type": "code",
     "collapsed": false,
     "input": [
      "user_df.stat.crosstab(\"occupation\",\"gender\" ).show(30)"
     ],
     "language": "python",
     "metadata": {
      "scrolled": false
     },
     "outputs": [],
     "prompt_number": 69
    },
    {
     "cell_type": "code",
     "collapsed": false,
     "input": [
      "user_df.describe().show()"
     ],
     "language": "python",
     "metadata": {
      "scrolled": true
     },
     "outputs": [],
     "prompt_number": 70
    },
    {
     "cell_type": "heading",
     "level": 1,
     "metadata": {},
     "source": [
      "19.10\tJoin\u95dc\u806f\u8cc7\u6599"
     ]
    },
    {
     "cell_type": "heading",
     "level": 1,
     "metadata": {},
     "source": [
      "ZipCode"
     ]
    },
    {
     "cell_type": "code",
     "collapsed": true,
     "input": [
      "#wget http://federalgovernmentzipcodes.us/free-zipcode-database-Primary.csv"
     ],
     "language": "python",
     "metadata": {},
     "outputs": [],
     "prompt_number": 71
    },
    {
     "cell_type": "code",
     "collapsed": false,
     "input": [
      "#Path=\"file:/home/hduser/pythonwork/ipynotebook/\"\n",
      "rawDataWithHeader = sc.textFile(Path+\"data/free-zipcode-database-Primary.csv\")\n",
      "rawDataWithHeader .take(2)"
     ],
     "language": "python",
     "metadata": {},
     "outputs": [],
     "prompt_number": 72
    },
    {
     "cell_type": "code",
     "collapsed": false,
     "input": [
      "header = rawDataWithHeader.first()\n",
      "rawData = rawDataWithHeader.filter(lambda x:x !=header)\n",
      "rawData.first()"
     ],
     "language": "python",
     "metadata": {},
     "outputs": [],
     "prompt_number": 73
    },
    {
     "cell_type": "code",
     "collapsed": false,
     "input": [
      "rData=rawData.map(lambda x: x.replace(\"\\\"\", \"\"))   \n",
      "rData.first()"
     ],
     "language": "python",
     "metadata": {},
     "outputs": [],
     "prompt_number": 74
    },
    {
     "cell_type": "code",
     "collapsed": false,
     "input": [
      "ZipRDD = rData.map(lambda x: x.split(\",\"))\n",
      "ZipRDD.first()"
     ],
     "language": "python",
     "metadata": {},
     "outputs": [],
     "prompt_number": 75
    },
    {
     "cell_type": "heading",
     "level": 1,
     "metadata": {},
     "source": [
      "19.19.2\t\u5efa\u7acbzipcode_table"
     ]
    },
    {
     "cell_type": "code",
     "collapsed": false,
     "input": [
      "from pyspark.sql import Row\n",
      "zipcode_data =ZipRDD .map(lambda p: \n",
      "   Row(\n",
      "    zipcode=int(p[0]), \n",
      "    zipCodeType=p[1],\n",
      "    city=p[2],\n",
      "    state=p[3]\n",
      "    )\n",
      ")\n",
      "zipcode_data.take(5)"
     ],
     "language": "python",
     "metadata": {},
     "outputs": [],
     "prompt_number": 76
    },
    {
     "cell_type": "code",
     "collapsed": false,
     "input": [
      "zipcode_df  = sqlContext.createDataFrame(zipcode_data )\n",
      "zipcode_df.printSchema()"
     ],
     "language": "python",
     "metadata": {},
     "outputs": [],
     "prompt_number": 77
    },
    {
     "cell_type": "code",
     "collapsed": false,
     "input": [
      "zipcode_df.registerTempTable(\"zipcode_table\")\n",
      "zipcode_df.show(10)"
     ],
     "language": "python",
     "metadata": {
      "scrolled": true
     },
     "outputs": [],
     "prompt_number": 78
    },
    {
     "cell_type": "code",
     "collapsed": false,
     "input": [
      "sqlContext.sql(\"\"\" \n",
      "SELECT z.* \n",
      "FROM zipcode_table z \n",
      "\"\"\").show(10)"
     ],
     "language": "python",
     "metadata": {},
     "outputs": [],
     "prompt_number": 79
    },
    {
     "cell_type": "code",
     "collapsed": false,
     "input": [
      "sqlContext.sql(\"\"\" \n",
      "SELECT u.* ,z.city,z.state \n",
      "FROM user_table u \n",
      "LEFT JOIN zipcode_table z  ON u.zipcode = z.zipcode\n",
      "WHERE z.state='NY'\n",
      "\"\"\").show(10)"
     ],
     "language": "python",
     "metadata": {
      "scrolled": true
     },
     "outputs": [],
     "prompt_number": 80
    },
    {
     "cell_type": "code",
     "collapsed": false,
     "input": [
      "sqlContext.sql(\"\"\" \n",
      "SELECT z.state ,count(*)\n",
      "FROM user_table u\n",
      "LEFT JOIN zipcode_table z  ON u.zipcode = z.zipcode\n",
      "GROUP BY z.state \n",
      "\"\"\").show(60)"
     ],
     "language": "python",
     "metadata": {
      "scrolled": true
     },
     "outputs": [],
     "prompt_number": 81
    },
    {
     "cell_type": "code",
     "collapsed": true,
     "input": [
      "#user_df.leftOuterJoin(zipcode_df )"
     ],
     "language": "python",
     "metadata": {},
     "outputs": [],
     "prompt_number": 82
    },
    {
     "cell_type": "code",
     "collapsed": false,
     "input": [
      "joined_df=user_df.join(zipcode_df ,  \\\n",
      "                                 user_df.zipcode == zipcode_df.zipcode, \"left_outer\")\n",
      "\n",
      "joined_df.printSchema()    "
     ],
     "language": "python",
     "metadata": {},
     "outputs": [],
     "prompt_number": 83
    },
    {
     "cell_type": "code",
     "collapsed": false,
     "input": [
      "joined_df.show(10)"
     ],
     "language": "python",
     "metadata": {
      "scrolled": true
     },
     "outputs": [],
     "prompt_number": 84
    },
    {
     "cell_type": "code",
     "collapsed": false,
     "input": [
      "joined_df.filter(\"state='NY' \").show(10)"
     ],
     "language": "python",
     "metadata": {},
     "outputs": [],
     "prompt_number": 85
    },
    {
     "cell_type": "code",
     "collapsed": false,
     "input": [
      "GroupByState_df=joined_df.groupBy(\"state\").count()\n",
      "GroupByState_df.show(60)"
     ],
     "language": "python",
     "metadata": {
      "scrolled": true
     },
     "outputs": [],
     "prompt_number": 86
    },
    {
     "cell_type": "heading",
     "level": 1,
     "metadata": {
      "collapsed": true
     },
     "source": [
      "19.11\t\u4ee5Pandas DataFrame\u7e6a\u5716"
     ]
    },
    {
     "cell_type": "code",
     "collapsed": false,
     "input": [
      "import pandas as pd\n",
      "GroupByState_pandas_df =GroupByState_df.toPandas().set_index('state')\n",
      "GroupByState_pandas_df"
     ],
     "language": "python",
     "metadata": {},
     "outputs": [],
     "prompt_number": 87
    },
    {
     "cell_type": "code",
     "collapsed": false,
     "input": [
      "GroupByState_pandas_df.T"
     ],
     "language": "python",
     "metadata": {},
     "outputs": [],
     "prompt_number": 88
    },
    {
     "cell_type": "code",
     "collapsed": false,
     "input": [
      "import matplotlib.pyplot as plt\n",
      "%matplotlib inline\n",
      "ax = GroupByState_pandas_df ['count']  \\\n",
      "            .plot(kind='bar', title =\"State \",figsize=(12,6),legend=True, fontsize=12)\n",
      "plt.show()"
     ],
     "language": "python",
     "metadata": {},
     "outputs": [],
     "prompt_number": 89
    },
    {
     "cell_type": "code",
     "collapsed": false,
     "input": [
      "Occupation_df=sqlContext.sql(\"\"\" \n",
      "SELECT u.occupation ,count(*) counts\n",
      "FROM user_table u\n",
      "GROUP BY occupation\n",
      "\"\"\")\n",
      "Occupation_df.show(30)"
     ],
     "language": "python",
     "metadata": {},
     "outputs": [],
     "prompt_number": 90
    },
    {
     "cell_type": "code",
     "collapsed": false,
     "input": [
      "Occupation_pandas_df =Occupation_df.toPandas().set_index('occupation')\n",
      "Occupation_pandas_df"
     ],
     "language": "python",
     "metadata": {},
     "outputs": [],
     "prompt_number": 91
    },
    {
     "cell_type": "code",
     "collapsed": false,
     "input": [
      "ax =Occupation_pandas_df['counts'].plot(kind='pie',\n",
      "           title =\"occupation\",figsize=(8,8),startangle=90,autopct='%1.1f%%')\n",
      "ax.legend(bbox_to_anchor=(1.05, 1), loc=2, borderaxespad=0.)\n",
      "plt.show()"
     ],
     "language": "python",
     "metadata": {},
     "outputs": [],
     "prompt_number": 92
    },
    {
     "cell_type": "markdown",
     "metadata": {},
     "source": []
    },
    {
     "cell_type": "code",
     "collapsed": true,
     "input": [],
     "language": "python",
     "metadata": {},
     "outputs": [],
     "prompt_number": null
    }
   ],
   "metadata": {}
  }
 ]
}