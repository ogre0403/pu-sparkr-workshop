{
 "cells": [
  {
   "cell_type": "markdown",
   "metadata": {},
   "source": [
    "# Linear Models with SparkR: uses and present limitations"
   ]
  },
  {
   "cell_type": "markdown",
   "metadata": {},
   "source": [
    "[**Introduction to Apache Spark with R by J. A. Dianes**](https://github.com/jadianes/spark-r-notebooks)"
   ]
  },
  {
   "cell_type": "markdown",
   "metadata": {},
   "source": [
    "In this notebook we will use SparkR machine learning capabilities in order to predict property value in relation to other variables in the [2013 American Community Survey](http://www.census.gov/programs-surveys/acs/data/summary-file.html) dataset. The whole point of R on Spark is to introduce Spark scalability into R data analysis pipelines. With this idea in mind, we have seen how [SparkR](http://spark.apache.org/docs/latest/sparkr.html) introduces data types and functions that are very similar to what we are used to when using regular R libraries. The next step in our series of notebooks will deal with its machine learning capabilities. While building a linear model we also want to check the significance of each of the variables involved in building such a predictor for property value."
   ]
  },
  {
   "cell_type": "markdown",
   "metadata": {},
   "source": [
    "## Creating a SparkSQL context and loading data"
   ]
  },
  {
   "cell_type": "markdown",
   "metadata": {
    "collapsed": true
   },
   "source": [
    "In order to explore our data, we first need to load it into a SparkSQL data frame. But first we need to init a SparkSQL context. The first thing we need to do is to set up some environment variables and library paths as follows. Remember to replace the value assigned to `SPARK_HOME` with your Spark home folder.  "
   ]
  },
  {
   "cell_type": "code",
   "execution_count": 1,
   "metadata": {
    "collapsed": false
   },
   "outputs": [
    {
     "name": "stderr",
     "output_type": "stream",
     "text": [
      "\n",
      "Attaching package: ‘SparkR’\n",
      "\n",
      "The following objects are masked from ‘package:stats’:\n",
      "\n",
      "    cov, filter, lag, na.omit, predict, sd, var, window\n",
      "\n",
      "The following objects are masked from ‘package:base’:\n",
      "\n",
      "    as.data.frame, colnames, colnames<-, drop, endsWith, intersect,\n",
      "    rank, rbind, sample, startsWith, subset, summary, transform, union\n",
      "\n"
     ]
    }
   ],
   "source": [
    "# Set Spark home and R libs\n",
    "library(SparkR, lib.loc = c(file.path(Sys.getenv(\"SPARK_HOME\"), \"R\", \"lib\")))"
   ]
  },
  {
   "cell_type": "markdown",
   "metadata": {},
   "source": [
    "Now we can load the `SparkR` library as follows."
   ]
  },
  {
   "cell_type": "code",
   "execution_count": 2,
   "metadata": {
    "collapsed": false
   },
   "outputs": [
    {
     "name": "stderr",
     "output_type": "stream",
     "text": [
      "Spark package found in SPARK_HOME: /opt/spark\n"
     ]
    },
    {
     "name": "stdout",
     "output_type": "stream",
     "text": [
      "Launching java with spark-submit command /opt/spark/bin/spark-submit  --packages com.databricks:spark-csv_2.11:1.2.0 --driver-memory \"2g\" sparkr-shell /tmp/RtmpPbuhf2/backend_port3e37263c1311 \n"
     ]
    }
   ],
   "source": [
    "sqlContext <- sparkR.session(master = \"local[*]\", sparkConfig = list(spark.driver.memory = \"2g\") ,sparkPackages = \"com.databricks:spark-csv_2.11:1.2.0\")\n"
   ]
  },
  {
   "cell_type": "markdown",
   "metadata": {},
   "source": [
    "And now we can initialise the Spark context as [in the official documentation](http://spark.apache.org/docs/latest/sparkr.html#starting-up-sparkcontext-sqlcontext). In our case we are use a standalone Spark cluster with one master and seven workers. If you are running Spark in local node, use just `master='local'`. Additionally, we require a Spark package from Databricks to read CSV files (more on this in the [previous notebook](https://github.com/jadianes/spark-r-notebooks/blob/master/notebooks/nb1-spark-sql-basics/nb1-spark-sql-basics.ipynb)). "
   ]
  },
  {
   "cell_type": "code",
   "execution_count": 3,
   "metadata": {
    "collapsed": false
   },
   "outputs": [],
   "source": [
    "#sc <- sparkR.init(master='spark://169.254.206.2:7077', sparkPackages=\"com.databricks:spark-csv_2.11:1.2.0\")"
   ]
  },
  {
   "cell_type": "markdown",
   "metadata": {},
   "source": [
    "And finally we can start the SparkSQL context as follows."
   ]
  },
  {
   "cell_type": "code",
   "execution_count": 4,
   "metadata": {
    "collapsed": true
   },
   "outputs": [],
   "source": [
    "#sqlContext <- sparkRSQL.init(sc)"
   ]
  },
  {
   "cell_type": "markdown",
   "metadata": {},
   "source": [
    "Now that we have our SparkSQL context ready, we can use it to load our CSV data into data frames. We have downloaded our [2013 American Community Survey dataset](http://www.census.gov/programs-surveys/acs/data/summary-file.html) files in [notebook 0](https://github.com/jadianes/spark-r-notebooks/tree/master/notebooks/nb0-starting-up/nb0-starting-up.ipynb), so they should be stored locally. Remember to set the right path for your data files in the first line, ours is `/nfs/data/2013-acs/ss13husa.csv`.  "
   ]
  },
  {
   "cell_type": "code",
   "execution_count": 5,
   "metadata": {
    "collapsed": true
   },
   "outputs": [],
   "source": [
    "housing_a_file_path <- file.path('', 'home','spark','pu_workshop','data','2013-acs','ss13husa.csv')\n",
    "housing_b_file_path <- file.path('', 'home','spark','pu_workshop','data','2013-acs','ss13husa.csv')"
   ]
  },
  {
   "cell_type": "markdown",
   "metadata": {},
   "source": [
    "Now let's read into a SparkSQL dataframe. We need to pass four parameters in addition to the `sqlContext`:  \n",
    "\n",
    "- The file path.  \n",
    "- `header='true'` since our `csv` files have a header with the column names. \n",
    "- Indicate that we want the library to infer the schema.  \n",
    "- And the source type (the Databricks package in this case). \n",
    "\n",
    "And we have two separate files for both, housing and population data. We need to join them."
   ]
  },
  {
   "cell_type": "code",
   "execution_count": 6,
   "metadata": {
    "collapsed": true
   },
   "outputs": [],
   "source": [
    "housing_a_df <- read.df(\n",
    "    #sqlContext, \n",
    "                        housing_a_file_path, \n",
    "                        header='true', \n",
    "                        source = \"com.databricks.spark.csv\", \n",
    "                        inferSchema='true')"
   ]
  },
  {
   "cell_type": "code",
   "execution_count": 7,
   "metadata": {
    "collapsed": true
   },
   "outputs": [],
   "source": [
    "housing_b_df <- read.df(\n",
    "    #sqlContext, \n",
    "                        housing_b_file_path, \n",
    "                        header='true', \n",
    "                        source = \"com.databricks.spark.csv\", \n",
    "                        inferSchema='true')"
   ]
  },
  {
   "cell_type": "code",
   "execution_count": 8,
   "metadata": {
    "collapsed": true
   },
   "outputs": [],
   "source": [
    "housing_df <- rbind(housing_a_df, housing_b_df)"
   ]
  },
  {
   "cell_type": "markdown",
   "metadata": {},
   "source": [
    "Let's check that we have everything there by counting the files and listing a few of them."
   ]
  },
  {
   "cell_type": "code",
   "execution_count": 9,
   "metadata": {
    "collapsed": false
   },
   "outputs": [
    {
     "data": {
      "text/html": [
       "1512130"
      ],
      "text/latex": [
       "1512130"
      ],
      "text/markdown": [
       "1512130"
      ],
      "text/plain": [
       "[1] 1512130"
      ]
     },
     "metadata": {},
     "output_type": "display_data"
    }
   ],
   "source": [
    "nrows <- nrow(housing_df)\n",
    "nrows"
   ]
  },
  {
   "cell_type": "code",
   "execution_count": 10,
   "metadata": {
    "collapsed": false
   },
   "outputs": [
    {
     "data": {
      "text/html": [
       "<table>\n",
       "<thead><tr><th scope=col>RT</th><th scope=col>SERIALNO</th><th scope=col>DIVISION</th><th scope=col>PUMA</th><th scope=col>REGION</th><th scope=col>ST</th><th scope=col>ADJHSG</th><th scope=col>ADJINC</th><th scope=col>WGTP</th><th scope=col>NP</th><th scope=col>⋯</th><th scope=col>wgtp71</th><th scope=col>wgtp72</th><th scope=col>wgtp73</th><th scope=col>wgtp74</th><th scope=col>wgtp75</th><th scope=col>wgtp76</th><th scope=col>wgtp77</th><th scope=col>wgtp78</th><th scope=col>wgtp79</th><th scope=col>wgtp80</th></tr></thead>\n",
       "<tbody>\n",
       "\t<tr><td>H      </td><td> 84    </td><td>6      </td><td>2600   </td><td>3      </td><td>1      </td><td>1000000</td><td>1007549</td><td>  0    </td><td>1      </td><td>⋯      </td><td>  0    </td><td>  0    </td><td>  0    </td><td>  0    </td><td>  0    </td><td>  0    </td><td>  0    </td><td>  0    </td><td>  0    </td><td>  0    </td></tr>\n",
       "\t<tr><td>H      </td><td>154    </td><td>6      </td><td>2500   </td><td>3      </td><td>1      </td><td>1000000</td><td>1007549</td><td> 51    </td><td>4      </td><td>⋯      </td><td> 86    </td><td> 53    </td><td> 59    </td><td> 84    </td><td> 49    </td><td> 15    </td><td> 15    </td><td> 20    </td><td> 50    </td><td> 16    </td></tr>\n",
       "\t<tr><td>H      </td><td>156    </td><td>6      </td><td>1700   </td><td>3      </td><td>1      </td><td>1000000</td><td>1007549</td><td>449    </td><td>1      </td><td>⋯      </td><td>161    </td><td>530    </td><td>601    </td><td>579    </td><td>341    </td><td>378    </td><td>387    </td><td>421    </td><td>621    </td><td>486    </td></tr>\n",
       "\t<tr><td>H      </td><td>160    </td><td>6      </td><td>2200   </td><td>3      </td><td>1      </td><td>1000000</td><td>1007549</td><td> 16    </td><td>3      </td><td>⋯      </td><td> 31    </td><td> 24    </td><td> 33    </td><td>  7    </td><td>  7    </td><td> 13    </td><td> 18    </td><td> 23    </td><td> 23    </td><td>  5    </td></tr>\n",
       "\t<tr><td>H      </td><td>231    </td><td>6      </td><td>2400   </td><td>3      </td><td>1      </td><td>1000000</td><td>1007549</td><td> 52    </td><td>1      </td><td>⋯      </td><td> 21    </td><td> 18    </td><td> 37    </td><td> 49    </td><td>103    </td><td> 38    </td><td> 49    </td><td> 51    </td><td> 46    </td><td> 47    </td></tr>\n",
       "\t<tr><td>H      </td><td>286    </td><td>6      </td><td> 900   </td><td>3      </td><td>1      </td><td>1000000</td><td>1007549</td><td> 76    </td><td>1      </td><td>⋯      </td><td>128    </td><td> 25    </td><td> 68    </td><td> 66    </td><td> 80    </td><td> 26    </td><td> 66    </td><td>164    </td><td> 88    </td><td> 24    </td></tr>\n",
       "</tbody>\n",
       "</table>\n"
      ],
      "text/latex": [
       "\\begin{tabular}{r|lllllllllllllllllllllllllllllllllllllllllllllllllllllllllllllllllllllllllllllllllllllllllllllllllllllllllllllllllllllllllllllllllllllllllllllllllllllllllllllllllllllllllllllllllllllllllllllllllllllllllllllllllllllllllllllllllllllll}\n",
       " RT & SERIALNO & DIVISION & PUMA & REGION & ST & ADJHSG & ADJINC & WGTP & NP & ⋯ & wgtp71 & wgtp72 & wgtp73 & wgtp74 & wgtp75 & wgtp76 & wgtp77 & wgtp78 & wgtp79 & wgtp80\\\\\n",
       "\\hline\n",
       "\t H       &  84     & 6       & 2600    & 3       & 1       & 1000000 & 1007549 &   0     & 1       & ⋯       &   0     &   0     &   0     &   0     &   0     &   0     &   0     &   0     &   0     &   0    \\\\\n",
       "\t H       & 154     & 6       & 2500    & 3       & 1       & 1000000 & 1007549 &  51     & 4       & ⋯       &  86     &  53     &  59     &  84     &  49     &  15     &  15     &  20     &  50     &  16    \\\\\n",
       "\t H       & 156     & 6       & 1700    & 3       & 1       & 1000000 & 1007549 & 449     & 1       & ⋯       & 161     & 530     & 601     & 579     & 341     & 378     & 387     & 421     & 621     & 486    \\\\\n",
       "\t H       & 160     & 6       & 2200    & 3       & 1       & 1000000 & 1007549 &  16     & 3       & ⋯       &  31     &  24     &  33     &   7     &   7     &  13     &  18     &  23     &  23     &   5    \\\\\n",
       "\t H       & 231     & 6       & 2400    & 3       & 1       & 1000000 & 1007549 &  52     & 1       & ⋯       &  21     &  18     &  37     &  49     & 103     &  38     &  49     &  51     &  46     &  47    \\\\\n",
       "\t H       & 286     & 6       &  900    & 3       & 1       & 1000000 & 1007549 &  76     & 1       & ⋯       & 128     &  25     &  68     &  66     &  80     &  26     &  66     & 164     &  88     &  24    \\\\\n",
       "\\end{tabular}\n"
      ],
      "text/markdown": [
       "\n",
       "RT | SERIALNO | DIVISION | PUMA | REGION | ST | ADJHSG | ADJINC | WGTP | NP | ⋯ | wgtp71 | wgtp72 | wgtp73 | wgtp74 | wgtp75 | wgtp76 | wgtp77 | wgtp78 | wgtp79 | wgtp80 | \n",
       "|---|---|---|---|---|---|\n",
       "| H       |  84     | 6       | 2600    | 3       | 1       | 1000000 | 1007549 |   0     | 1       | ⋯       |   0     |   0     |   0     |   0     |   0     |   0     |   0     |   0     |   0     |   0     | \n",
       "| H       | 154     | 6       | 2500    | 3       | 1       | 1000000 | 1007549 |  51     | 4       | ⋯       |  86     |  53     |  59     |  84     |  49     |  15     |  15     |  20     |  50     |  16     | \n",
       "| H       | 156     | 6       | 1700    | 3       | 1       | 1000000 | 1007549 | 449     | 1       | ⋯       | 161     | 530     | 601     | 579     | 341     | 378     | 387     | 421     | 621     | 486     | \n",
       "| H       | 160     | 6       | 2200    | 3       | 1       | 1000000 | 1007549 |  16     | 3       | ⋯       |  31     |  24     |  33     |   7     |   7     |  13     |  18     |  23     |  23     |   5     | \n",
       "| H       | 231     | 6       | 2400    | 3       | 1       | 1000000 | 1007549 |  52     | 1       | ⋯       |  21     |  18     |  37     |  49     | 103     |  38     |  49     |  51     |  46     |  47     | \n",
       "| H       | 286     | 6       |  900    | 3       | 1       | 1000000 | 1007549 |  76     | 1       | ⋯       | 128     |  25     |  68     |  66     |  80     |  26     |  66     | 164     |  88     |  24     | \n",
       "\n",
       "\n"
      ],
      "text/plain": [
       "  RT SERIALNO DIVISION PUMA REGION ST ADJHSG  ADJINC  WGTP NP ⋯ wgtp71 wgtp72\n",
       "1 H   84      6        2600 3      1  1000000 1007549   0  1  ⋯   0      0   \n",
       "2 H  154      6        2500 3      1  1000000 1007549  51  4  ⋯  86     53   \n",
       "3 H  156      6        1700 3      1  1000000 1007549 449  1  ⋯ 161    530   \n",
       "4 H  160      6        2200 3      1  1000000 1007549  16  3  ⋯  31     24   \n",
       "5 H  231      6        2400 3      1  1000000 1007549  52  1  ⋯  21     18   \n",
       "6 H  286      6         900 3      1  1000000 1007549  76  1  ⋯ 128     25   \n",
       "  wgtp73 wgtp74 wgtp75 wgtp76 wgtp77 wgtp78 wgtp79 wgtp80\n",
       "1   0      0      0      0      0      0      0      0   \n",
       "2  59     84     49     15     15     20     50     16   \n",
       "3 601    579    341    378    387    421    621    486   \n",
       "4  33      7      7     13     18     23     23      5   \n",
       "5  37     49    103     38     49     51     46     47   \n",
       "6  68     66     80     26     66    164     88     24   "
      ]
     },
     "metadata": {},
     "output_type": "display_data"
    }
   ],
   "source": [
    "head(housing_df)"
   ]
  },
  {
   "cell_type": "markdown",
   "metadata": {},
   "source": [
    "## Preparing our data"
   ]
  },
  {
   "cell_type": "markdown",
   "metadata": {},
   "source": [
    "We need to convert `ST` (or any other categorical variable) from a numeric variable into a factor."
   ]
  },
  {
   "cell_type": "code",
   "execution_count": 11,
   "metadata": {
    "collapsed": false
   },
   "outputs": [],
   "source": [
    "housing_df$ST <- cast(housing_df$ST, \"string\")"
   ]
  },
  {
   "cell_type": "code",
   "execution_count": 12,
   "metadata": {
    "collapsed": true
   },
   "outputs": [],
   "source": [
    "housing_df$REGION <- cast(housing_df$REGION, \"string\")"
   ]
  },
  {
   "cell_type": "markdown",
   "metadata": {},
   "source": [
    "Additionally, we need either to impute values or to remove samples with null values in any of our predictors or desponse. For the response (`VALP`) we will use just those samples with actual values."
   ]
  },
  {
   "cell_type": "code",
   "execution_count": 13,
   "metadata": {
    "collapsed": false
   },
   "outputs": [],
   "source": [
    "housing_with_valp_df <- filter(\n",
    "    housing_df, \n",
    "    isNotNull(housing_df$VALP) \n",
    "    & isNotNull(housing_df$TAXP)\n",
    "    & isNotNull(housing_df$INSP)\n",
    "    & isNotNull(housing_df$ACR)\n",
    ")"
   ]
  },
  {
   "cell_type": "markdown",
   "metadata": {},
   "source": [
    "Let's count the remaining samples."
   ]
  },
  {
   "cell_type": "code",
   "execution_count": 14,
   "metadata": {
    "collapsed": false
   },
   "outputs": [
    {
     "data": {
      "text/html": [
       "818148"
      ],
      "text/latex": [
       "818148"
      ],
      "text/markdown": [
       "818148"
      ],
      "text/plain": [
       "[1] 818148"
      ]
     },
     "metadata": {},
     "output_type": "display_data"
    }
   ],
   "source": [
    "nrows <- nrow(housing_with_valp_df)\n",
    "nrows"
   ]
  },
  {
   "cell_type": "markdown",
   "metadata": {},
   "source": [
    "## Preparing a train / test data split"
   ]
  },
  {
   "cell_type": "markdown",
   "metadata": {},
   "source": [
    "We don't have a split function in SparkR, but we can use `sample` in combination with the `SERIALNO` column in order to prepare two sets of IDs for training and testing."
   ]
  },
  {
   "cell_type": "code",
   "execution_count": 15,
   "metadata": {
    "collapsed": true
   },
   "outputs": [],
   "source": [
    "housing_df_test <- sample(housing_with_valp_df,FALSE,0.1)"
   ]
  },
  {
   "cell_type": "code",
   "execution_count": 16,
   "metadata": {
    "collapsed": false
   },
   "outputs": [
    {
     "data": {
      "text/html": [
       "81448"
      ],
      "text/latex": [
       "81448"
      ],
      "text/markdown": [
       "81448"
      ],
      "text/plain": [
       "[1] 81448"
      ]
     },
     "metadata": {},
     "output_type": "display_data"
    }
   ],
   "source": [
    "nrow(housing_df_test)"
   ]
  },
  {
   "cell_type": "code",
   "execution_count": 17,
   "metadata": {
    "collapsed": false
   },
   "outputs": [],
   "source": [
    "test_ids <- collect(select(housing_df_test, \"SERIALNO\"))$SERIALNO"
   ]
  },
  {
   "cell_type": "markdown",
   "metadata": {},
   "source": [
    "Unfortunately SparkR doesn't support negative %in% expressions, so we need to do this in two steps. First we add a flag to the whole dataset indicating that a sample belongs to the test set."
   ]
  },
  {
   "cell_type": "code",
   "execution_count": 18,
   "metadata": {
    "collapsed": false
   },
   "outputs": [],
   "source": [
    "housing_with_valp_df$IS_TEST <- housing_with_valp_df$SERIALNO %in% test_ids"
   ]
  },
  {
   "cell_type": "markdown",
   "metadata": {},
   "source": [
    "And then we use that flag to subset out the train dataset as follows."
   ]
  },
  {
   "cell_type": "code",
   "execution_count": 19,
   "metadata": {
    "collapsed": false
   },
   "outputs": [],
   "source": [
    "housing_df_train <- subset(housing_with_valp_df, housing_with_valp_df$IS_TEST==FALSE)"
   ]
  },
  {
   "cell_type": "code",
   "execution_count": 20,
   "metadata": {
    "collapsed": false
   },
   "outputs": [
    {
     "data": {
      "text/html": [
       "663462"
      ],
      "text/latex": [
       "663462"
      ],
      "text/markdown": [
       "663462"
      ],
      "text/plain": [
       "[1] 663462"
      ]
     },
     "metadata": {},
     "output_type": "display_data"
    }
   ],
   "source": [
    "nrow(housing_df_train)"
   ]
  },
  {
   "cell_type": "markdown",
   "metadata": {},
   "source": [
    "However this approach is not very scalable since we are collecting all the test IDs and passing them over to build the new flag column. What if we have a much larger test set? Hopefully futre versions of SparkR will come up with a proper `split` functionality."
   ]
  },
  {
   "cell_type": "markdown",
   "metadata": {},
   "source": [
    "## Training a linear model"
   ]
  },
  {
   "cell_type": "markdown",
   "metadata": {},
   "source": [
    "In order to train a linear model, we call `glm` with the following parameters:\n",
    "- A formula: sadly, `SparkR::glm()` gives us an error when we pass more than eight variables using `+` in the formula.\n",
    "- The dataset we want to use to train the model.\n",
    "- The type of model (gaussian or binomial).  \n",
    "\n",
    "This doesn't differ much from the usual R `glm` command, although right now is more limited."
   ]
  },
  {
   "cell_type": "markdown",
   "metadata": {},
   "source": [
    "The list of variables we have used includes:  \n",
    "\n",
    "- `RMSP` or number of rooms.\n",
    "- `ACR` the lot size.\n",
    "- `INSP` or insurance cost.\n",
    "- `TAXP` or taxes cost.\n",
    "- `ELEP` or electricity cost.\n",
    "- `GASP` or gas cost.\n",
    "- `ST` that is the state code.\n",
    "- `REGION` that identifies the region."
   ]
  },
  {
   "cell_type": "code",
   "execution_count": 21,
   "metadata": {
    "collapsed": true
   },
   "outputs": [],
   "source": [
    "model <- glm(\n",
    "    VALP ~ RMSP + ACR + INSP + TAXP + ELEP + GASP + ST + REGION, \n",
    "    data = housing_df_train, \n",
    "    family = \"gaussian\")"
   ]
  },
  {
   "cell_type": "code",
   "execution_count": 22,
   "metadata": {
    "collapsed": false
   },
   "outputs": [
    {
     "ename": "ERROR",
     "evalue": "Error in .local(object, ...): unused argument (signif.stars = TRUE)\n",
     "output_type": "error",
     "traceback": [
      "Error in .local(object, ...): unused argument (signif.stars = TRUE)\nTraceback:\n",
      "1. summary(model, signif.stars = TRUE)",
      "2. summary(model, signif.stars = TRUE)"
     ]
    }
   ],
   "source": [
    "# summary(model, signif.stars=TRUE)"
   ]
  },
  {
   "cell_type": "markdown",
   "metadata": {},
   "source": [
    "Sadly, the current version of `SparkR::summary()` doesn't provide significance starts. That makes model interpretation and selection very difficult. But at least we know how each variables influences a property value. For example, the Midwest region decreases property value, while the West increases it, etc. In order to interpret that we need to have a look at our [data dictionary](http://www2.census.gov/programs-surveys/acs/tech_docs/pums/data_dict/PUMSDataDict13.txt)."
   ]
  },
  {
   "cell_type": "markdown",
   "metadata": {},
   "source": [
    "In any case, since we don't have significance starts, we can iterate through adding/removing variables and calculating the R2 value. In our case we ended up with the previous model."
   ]
  },
  {
   "cell_type": "markdown",
   "metadata": {},
   "source": [
    "## Evaluating our model using the test data"
   ]
  },
  {
   "cell_type": "markdown",
   "metadata": {},
   "source": [
    "First of all let's obtain the average value for `VALP` that we will use as a reference of a base predictor model."
   ]
  },
  {
   "cell_type": "code",
   "execution_count": 23,
   "metadata": {
    "collapsed": true
   },
   "outputs": [],
   "source": [
    "VALP_mean <- collect(agg(\n",
    "    housing_df_train, \n",
    "    AVG_VALP=mean(housing_df_train$VALP)\n",
    "))$AVG_VALP"
   ]
  },
  {
   "cell_type": "code",
   "execution_count": 24,
   "metadata": {
    "collapsed": false
   },
   "outputs": [
    {
     "data": {
      "text/html": [
       "267472.791749942"
      ],
      "text/latex": [
       "267472.791749942"
      ],
      "text/markdown": [
       "267472.791749942"
      ],
      "text/plain": [
       "[1] 267472.8"
      ]
     },
     "metadata": {},
     "output_type": "display_data"
    }
   ],
   "source": [
    "VALP_mean"
   ]
  },
  {
   "cell_type": "markdown",
   "metadata": {},
   "source": [
    "Let's now predict on our test dataset as follows."
   ]
  },
  {
   "cell_type": "code",
   "execution_count": 25,
   "metadata": {
    "collapsed": false
   },
   "outputs": [],
   "source": [
    "predictions <- predict(model, newData = housing_df_test)"
   ]
  },
  {
   "cell_type": "markdown",
   "metadata": {},
   "source": [
    "Let's add the squared residuals and squared totals so later on we can calculate [R2](https://en.wikipedia.org/wiki/Coefficient_of_determination)."
   ]
  },
  {
   "cell_type": "code",
   "execution_count": 26,
   "metadata": {
    "collapsed": false
   },
   "outputs": [
    {
     "data": {
      "text/html": [
       "<table>\n",
       "<thead><tr><th scope=col>VALP</th><th scope=col>prediction</th><th scope=col>S_res</th><th scope=col>S_tot</th></tr></thead>\n",
       "<tbody>\n",
       "\t<tr><td>  20000     </td><td> 67811.74   </td><td>2.285963e+09</td><td>6.124278e+10</td></tr>\n",
       "\t<tr><td>1843000     </td><td>391565.54   </td><td>2.106662e+12</td><td>2.482286e+12</td></tr>\n",
       "\t<tr><td> 150000     </td><td>234669.17   </td><td>7.168869e+09</td><td>1.379986e+10</td></tr>\n",
       "\t<tr><td> 225000     </td><td>303941.54   </td><td>6.231767e+09</td><td>1.803938e+09</td></tr>\n",
       "\t<tr><td> 250000     </td><td>186783.93   </td><td>3.996271e+09</td><td>3.052985e+08</td></tr>\n",
       "\t<tr><td>  40000     </td><td> 83368.65   </td><td>1.880840e+09</td><td>5.174387e+10</td></tr>\n",
       "</tbody>\n",
       "</table>\n"
      ],
      "text/latex": [
       "\\begin{tabular}{r|llll}\n",
       " VALP & prediction & S\\_res & S\\_tot\\\\\n",
       "\\hline\n",
       "\t   20000      &  67811.74    & 2.285963e+09 & 6.124278e+10\\\\\n",
       "\t 1843000      & 391565.54    & 2.106662e+12 & 2.482286e+12\\\\\n",
       "\t  150000      & 234669.17    & 7.168869e+09 & 1.379986e+10\\\\\n",
       "\t  225000      & 303941.54    & 6.231767e+09 & 1.803938e+09\\\\\n",
       "\t  250000      & 186783.93    & 3.996271e+09 & 3.052985e+08\\\\\n",
       "\t   40000      &  83368.65    & 1.880840e+09 & 5.174387e+10\\\\\n",
       "\\end{tabular}\n"
      ],
      "text/markdown": [
       "\n",
       "VALP | prediction | S_res | S_tot | \n",
       "|---|---|---|---|---|---|\n",
       "|   20000      |  67811.74    | 2.285963e+09 | 6.124278e+10 | \n",
       "| 1843000      | 391565.54    | 2.106662e+12 | 2.482286e+12 | \n",
       "|  150000      | 234669.17    | 7.168869e+09 | 1.379986e+10 | \n",
       "|  225000      | 303941.54    | 6.231767e+09 | 1.803938e+09 | \n",
       "|  250000      | 186783.93    | 3.996271e+09 | 3.052985e+08 | \n",
       "|   40000      |  83368.65    | 1.880840e+09 | 5.174387e+10 | \n",
       "\n",
       "\n"
      ],
      "text/plain": [
       "  VALP    prediction S_res        S_tot       \n",
       "1   20000  67811.74  2.285963e+09 6.124278e+10\n",
       "2 1843000 391565.54  2.106662e+12 2.482286e+12\n",
       "3  150000 234669.17  7.168869e+09 1.379986e+10\n",
       "4  225000 303941.54  6.231767e+09 1.803938e+09\n",
       "5  250000 186783.93  3.996271e+09 3.052985e+08\n",
       "6   40000  83368.65  1.880840e+09 5.174387e+10"
      ]
     },
     "metadata": {},
     "output_type": "display_data"
    }
   ],
   "source": [
    "predictions <- transform(\n",
    "    predictions, \n",
    "    S_res=(predictions$VALP - predictions$prediction)**2, \n",
    "    S_tot=(predictions$VALP - VALP_mean)**2)\n",
    "head(select(predictions, \"VALP\", \"prediction\", \"S_res\", \"S_tot\"))"
   ]
  },
  {
   "cell_type": "code",
   "execution_count": 27,
   "metadata": {
    "collapsed": true
   },
   "outputs": [],
   "source": [
    "nrows_test <- nrow(housing_df_test)\n",
    "residuals <- collect(agg(\n",
    "    predictions, \n",
    "    SS_res=sum(predictions$S_res),\n",
    "    SS_tot=sum(predictions$S_tot)\n",
    "))"
   ]
  },
  {
   "cell_type": "code",
   "execution_count": 28,
   "metadata": {
    "collapsed": false
   },
   "outputs": [
    {
     "data": {
      "text/html": [
       "<table>\n",
       "<thead><tr><th scope=col>SS_res</th><th scope=col>SS_tot</th></tr></thead>\n",
       "<tbody>\n",
       "\t<tr><td>6.67335e+15 </td><td>1.122922e+16</td></tr>\n",
       "</tbody>\n",
       "</table>\n"
      ],
      "text/latex": [
       "\\begin{tabular}{r|ll}\n",
       " SS\\_res & SS\\_tot\\\\\n",
       "\\hline\n",
       "\t 6.67335e+15  & 1.122922e+16\\\\\n",
       "\\end{tabular}\n"
      ],
      "text/markdown": [
       "\n",
       "SS_res | SS_tot | \n",
       "|---|\n",
       "| 6.67335e+15  | 1.122922e+16 | \n",
       "\n",
       "\n"
      ],
      "text/plain": [
       "  SS_res      SS_tot      \n",
       "1 6.67335e+15 1.122922e+16"
      ]
     },
     "metadata": {},
     "output_type": "display_data"
    }
   ],
   "source": [
    "residuals"
   ]
  },
  {
   "cell_type": "code",
   "execution_count": 29,
   "metadata": {
    "collapsed": false
   },
   "outputs": [],
   "source": [
    "R2 <- 1.0 - (residuals$SS_res/residuals$SS_tot)"
   ]
  },
  {
   "cell_type": "code",
   "execution_count": 30,
   "metadata": {
    "collapsed": false
   },
   "outputs": [
    {
     "data": {
      "text/html": [
       "0.405715815761844"
      ],
      "text/latex": [
       "0.405715815761844"
      ],
      "text/markdown": [
       "0.405715815761844"
      ],
      "text/plain": [
       "[1] 0.4057158"
      ]
     },
     "metadata": {},
     "output_type": "display_data"
    }
   ],
   "source": [
    "R2"
   ]
  },
  {
   "cell_type": "markdown",
   "metadata": {},
   "source": [
    "In regression, the R2 coefficient of determination is a statistical measure of how well the regression line approximates the real data points. An R2 of 1 indicates that the regression line perfectly fits the data."
   ]
  },
  {
   "cell_type": "markdown",
   "metadata": {},
   "source": [
    "A value of 0.41 doesn't speak very well about our model."
   ]
  },
  {
   "cell_type": "markdown",
   "metadata": {},
   "source": [
    "## Conclusions"
   ]
  },
  {
   "cell_type": "markdown",
   "metadata": {},
   "source": [
    "We still need to improve our model if we really want to be able to predict property values. However there are some limitations in the current SparkR implementation that stop us from doing so. Hopefully these limitations won't be there in further versions. Moreover, we are using a linear model, and the relationships between our predictors and the target variable might not be linear at all."
   ]
  },
  {
   "cell_type": "markdown",
   "metadata": {},
   "source": [
    "But right now, in Spark v1.5, the R machine learning capabilities are still very limited. We are missing a few things, such as: \n",
    "\n",
    "- Accepting more than 8 variables in formulas using `+`.  \n",
    "- Having significance stars that help model interpretation and selection.  \n",
    "- Having other indicators (e.g. R2) in summary objects so we don't have to calculate them ourselves.\n",
    "- Being able to create more complex formulas (e.g. removing intercepts using 100 + ...) so we don't get negative values, etc.\n",
    "- Although we have a `sample` method, we are missing a `split` one that we can use to easier have train/test splits.  \n",
    "- Being able to use more powerful models (or at least models that deal better with non linearities), and not just linear ones."
   ]
  }
 ],
 "metadata": {
  "kernelspec": {
   "display_name": "R",
   "language": "R",
   "name": "ir"
  },
  "language_info": {
   "codemirror_mode": "r",
   "file_extension": ".r",
   "mimetype": "text/x-r-source",
   "name": "R",
   "pygments_lexer": "r",
   "version": "3.4.0"
  }
 },
 "nbformat": 4,
 "nbformat_minor": 0
}
