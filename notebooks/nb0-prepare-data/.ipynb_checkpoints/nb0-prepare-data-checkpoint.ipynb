{
 "cells": [
  {
   "cell_type": "code",
   "execution_count": 2,
   "metadata": {
    "collapsed": true
   },
   "outputs": [],
   "source": [
    "# 注意事項:\n",
    "# 當您執行本Notebook的程式後，如果你要關閉Notebook，\n",
    "# 請選擇選單: File > Close and Halt 才能確實停止目前正在執行的程式，並且釋放資源\n",
    "# 如果您沒有使用以上方法，只關閉此分頁，程式仍在執行，未釋放資源，當您開啟並執行其他的Notebook時，可能會發生錯誤"
   ]
  },
  {
   "cell_type": "markdown",
   "metadata": {},
   "source": [
    "# Getting and reading data"
   ]
  },
  {
   "cell_type": "markdown",
   "metadata": {},
   "source": [
    "所有的notebook都使用2013 American Community Survey 資料集。\n",
    "如果本機上沒有這些資料集，需要先執行一次這個notebook，將資料集下載並解壓縮。\n"
   ]
  },
  {
   "cell_type": "markdown",
   "metadata": {},
   "source": [
    "這次課程已經完成資料下載，這一步驟可以省略。"
   ]
  },
  {
   "cell_type": "markdown",
   "metadata": {},
   "source": [
    "使用 R 的download指令下載資料集檔案，並存到/tmp目錄之下。"
   ]
  },
  {
   "cell_type": "code",
   "execution_count": null,
   "metadata": {
    "collapsed": true
   },
   "outputs": [],
   "source": [
    "download.file(\"http://www2.census.gov/acs2013_1yr/pums/csv_pus.zip\",destfile=\"/tmp/csv_pus.zip\",method=\"libcurl\")"
   ]
  },
  {
   "cell_type": "code",
   "execution_count": null,
   "metadata": {
    "collapsed": true
   },
   "outputs": [],
   "source": [
    "download.file(\"http://www2.census.gov/acs2013_1yr/pums/csv_hus.zip\",destfile=\"/tmp/csv_hus.zip\",method=\"libcurl\")"
   ]
  },
  {
   "cell_type": "markdown",
   "metadata": {},
   "source": [
    "目前在/tmp下已有 `csv_pus.zip` 和 `csv_hus.zip` 二個壓縮檔. 可以針對這二個檔案解壓縮。每個檔案內有二個csv檔，解壓縮後可以得到4個csv檔。\n",
    "\n",
    "- `ss13husa.csv`: state 1 ~ 25  的住宅資料。 \n",
    "- `ss13husb.csv`: state 26 ~ 50 的住宅資料。 \n",
    "- `ss13pusa.csv`: state 1 ~ 25 的人口資料。\n",
    "- `ss13pusb.csv`: state 26 ~ 50 的人口資料。 \n",
    "\n",
    "在`/home/spark/pu_workshop/data/2013-acs`目錄下就有所需的4個csv檔供後續操作使用。"
   ]
  },
  {
   "cell_type": "code",
   "execution_count": null,
   "metadata": {
    "collapsed": true
   },
   "outputs": [],
   "source": [
    "unzip('/tmp/csv_pus.zip',exdir='/home/spark/pu_workshop/data/2013-acs')"
   ]
  },
  {
   "cell_type": "code",
   "execution_count": null,
   "metadata": {
    "collapsed": true
   },
   "outputs": [],
   "source": [
    "unzip('/tmp/spark/csv_hus.zip',exdir='/home/spark/pu_workshop/data/2013-acs')"
   ]
  }
 ],
 "metadata": {
  "kernelspec": {
   "display_name": "R",
   "language": "R",
   "name": "ir"
  },
  "language_info": {
   "codemirror_mode": "r",
   "file_extension": ".r",
   "mimetype": "text/x-r-source",
   "name": "R",
   "pygments_lexer": "r",
   "version": "3.4.0"
  }
 },
 "nbformat": 4,
 "nbformat_minor": 0
}
