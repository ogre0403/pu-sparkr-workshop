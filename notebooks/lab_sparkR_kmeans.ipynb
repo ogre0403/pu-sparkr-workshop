{
 "cells": [
  {
   "cell_type": "code",
   "execution_count": 5,
   "metadata": {
    "collapsed": false
   },
   "outputs": [
    {
     "data": {
      "text/plain": [
       "Java ref type org.apache.spark.sql.SparkSession id 1 "
      ]
     },
     "metadata": {},
     "output_type": "display_data"
    }
   ],
   "source": [
    "library(SparkR, lib.loc = c(file.path(Sys.getenv(\"SPARK_HOME\"), \"R\", \"lib\")))\n",
    "sparkR.session(master = \"local[*]\")"
   ]
  },
  {
   "cell_type": "code",
   "execution_count": 6,
   "metadata": {
    "collapsed": true
   },
   "outputs": [],
   "source": [
    "data <- file.path('', 'home','spark','pu_workshop','kmeans_data.csv')"
   ]
  },
  {
   "cell_type": "code",
   "execution_count": 7,
   "metadata": {
    "collapsed": true
   },
   "outputs": [],
   "source": [
    "data_df <- read.df(\n",
    "    data, \n",
    "    header='true', \n",
    "    source = \"com.databricks.spark.csv\", \n",
    "    inferSchema='true')"
   ]
  },
  {
   "cell_type": "code",
   "execution_count": 8,
   "metadata": {
    "collapsed": false
   },
   "outputs": [
    {
     "data": {
      "text/html": [
       "<table>\n",
       "<thead><tr><th scope=col>x</th><th scope=col>y</th><th scope=col>cluster</th></tr></thead>\n",
       "<tbody>\n",
       "\t<tr><td>-1.486033  </td><td>-0.22116824</td><td>1          </td></tr>\n",
       "\t<tr><td>-1.546630  </td><td> 0.45674134</td><td>1          </td></tr>\n",
       "\t<tr><td>-1.862865  </td><td> 0.20417561</td><td>1          </td></tr>\n",
       "\t<tr><td>-1.557345  </td><td>-0.33094981</td><td>1          </td></tr>\n",
       "\t<tr><td>-2.955578  </td><td> 0.08726702</td><td>1          </td></tr>\n",
       "\t<tr><td>-2.217554  </td><td>-0.13822433</td><td>1          </td></tr>\n",
       "</tbody>\n",
       "</table>\n"
      ],
      "text/latex": [
       "\\begin{tabular}{r|lll}\n",
       " x & y & cluster\\\\\n",
       "\\hline\n",
       "\t -1.486033   & -0.22116824 & 1          \\\\\n",
       "\t -1.546630   &  0.45674134 & 1          \\\\\n",
       "\t -1.862865   &  0.20417561 & 1          \\\\\n",
       "\t -1.557345   & -0.33094981 & 1          \\\\\n",
       "\t -2.955578   &  0.08726702 & 1          \\\\\n",
       "\t -2.217554   & -0.13822433 & 1          \\\\\n",
       "\\end{tabular}\n"
      ],
      "text/markdown": [
       "\n",
       "x | y | cluster | \n",
       "|---|---|---|---|---|---|\n",
       "| -1.486033   | -0.22116824 | 1           | \n",
       "| -1.546630   |  0.45674134 | 1           | \n",
       "| -1.862865   |  0.20417561 | 1           | \n",
       "| -1.557345   | -0.33094981 | 1           | \n",
       "| -2.955578   |  0.08726702 | 1           | \n",
       "| -2.217554   | -0.13822433 | 1           | \n",
       "\n",
       "\n"
      ],
      "text/plain": [
       "  x         y           cluster\n",
       "1 -1.486033 -0.22116824 1      \n",
       "2 -1.546630  0.45674134 1      \n",
       "3 -1.862865  0.20417561 1      \n",
       "4 -1.557345 -0.33094981 1      \n",
       "5 -2.955578  0.08726702 1      \n",
       "6 -2.217554 -0.13822433 1      "
      ]
     },
     "metadata": {},
     "output_type": "display_data"
    }
   ],
   "source": [
    "head(data_df)"
   ]
  },
  {
   "cell_type": "code",
   "execution_count": 13,
   "metadata": {
    "collapsed": false
   },
   "outputs": [
    {
     "name": "stdout",
     "output_type": "stream",
     "text": [
      "root\n",
      " |-- x: double (nullable = true)\n",
      " |-- y: double (nullable = true)\n",
      " |-- cluster: integer (nullable = true)\n"
     ]
    }
   ],
   "source": [
    "printSchema(data_df)"
   ]
  },
  {
   "cell_type": "code",
   "execution_count": 11,
   "metadata": {
    "collapsed": true
   },
   "outputs": [],
   "source": [
    "kmeansModel <- spark.kmeans(data_df, ~ x + y,k = 3)"
   ]
  },
  {
   "cell_type": "code",
   "execution_count": 12,
   "metadata": {
    "collapsed": false
   },
   "outputs": [
    {
     "data": {
      "text/plain": [
       "$k\n",
       "[1] 3\n",
       "\n",
       "$coefficients\n",
       "  x           y         \n",
       "1 -0.08700363 1.048981  \n",
       "2 1.629357    0.1395087 \n",
       "3 -1.97239    0.01614087\n",
       "\n",
       "$size\n",
       "$size[[1]]\n",
       "[1] 26\n",
       "\n",
       "$size[[2]]\n",
       "[1] 34\n",
       "\n",
       "$size[[3]]\n",
       "[1] 30\n",
       "\n",
       "\n",
       "$cluster\n",
       "SparkDataFrame[prediction:int]\n",
       "\n",
       "$is.loaded\n",
       "[1] FALSE\n"
      ]
     },
     "metadata": {},
     "output_type": "display_data"
    }
   ],
   "source": [
    "summary(kmeansModel)"
   ]
  },
  {
   "cell_type": "code",
   "execution_count": 14,
   "metadata": {
    "collapsed": true
   },
   "outputs": [],
   "source": [
    "library(ggplot2)"
   ]
  },
  {
   "cell_type": "code",
   "execution_count": 16,
   "metadata": {
    "collapsed": false
   },
   "outputs": [],
   "source": [
    "housing_region_df_local <- collect(select(data_df,\"x\",\"y\"))"
   ]
  },
  {
   "cell_type": "code",
   "execution_count": 18,
   "metadata": {
    "collapsed": false
   },
   "outputs": [
    {
     "data": {
      "text/html": [
       "<table>\n",
       "<thead><tr><th scope=col>x</th><th scope=col>y</th></tr></thead>\n",
       "<tbody>\n",
       "\t<tr><td>-1.486033  </td><td>-0.22116824</td></tr>\n",
       "\t<tr><td>-1.546630  </td><td> 0.45674134</td></tr>\n",
       "\t<tr><td>-1.862865  </td><td> 0.20417561</td></tr>\n",
       "\t<tr><td>-1.557345  </td><td>-0.33094981</td></tr>\n",
       "\t<tr><td>-2.955578  </td><td> 0.08726702</td></tr>\n",
       "\t<tr><td>-2.217554  </td><td>-0.13822433</td></tr>\n",
       "</tbody>\n",
       "</table>\n"
      ],
      "text/latex": [
       "\\begin{tabular}{r|ll}\n",
       " x & y\\\\\n",
       "\\hline\n",
       "\t -1.486033   & -0.22116824\\\\\n",
       "\t -1.546630   &  0.45674134\\\\\n",
       "\t -1.862865   &  0.20417561\\\\\n",
       "\t -1.557345   & -0.33094981\\\\\n",
       "\t -2.955578   &  0.08726702\\\\\n",
       "\t -2.217554   & -0.13822433\\\\\n",
       "\\end{tabular}\n"
      ],
      "text/markdown": [
       "\n",
       "x | y | \n",
       "|---|---|---|---|---|---|\n",
       "| -1.486033   | -0.22116824 | \n",
       "| -1.546630   |  0.45674134 | \n",
       "| -1.862865   |  0.20417561 | \n",
       "| -1.557345   | -0.33094981 | \n",
       "| -2.955578   |  0.08726702 | \n",
       "| -2.217554   | -0.13822433 | \n",
       "\n",
       "\n"
      ],
      "text/plain": [
       "  x         y          \n",
       "1 -1.486033 -0.22116824\n",
       "2 -1.546630  0.45674134\n",
       "3 -1.862865  0.20417561\n",
       "4 -1.557345 -0.33094981\n",
       "5 -2.955578  0.08726702\n",
       "6 -2.217554 -0.13822433"
      ]
     },
     "metadata": {},
     "output_type": "display_data"
    }
   ],
   "source": [
    "head(housing_region_df_local)"
   ]
  },
  {
   "cell_type": "code",
   "execution_count": null,
   "metadata": {
    "collapsed": true
   },
   "outputs": [],
   "source": []
  }
 ],
 "metadata": {
  "kernelspec": {
   "display_name": "R",
   "language": "R",
   "name": "ir"
  },
  "language_info": {
   "codemirror_mode": "r",
   "file_extension": ".r",
   "mimetype": "text/x-r-source",
   "name": "R",
   "pygments_lexer": "r",
   "version": "3.4.0"
  }
 },
 "nbformat": 4,
 "nbformat_minor": 0
}
