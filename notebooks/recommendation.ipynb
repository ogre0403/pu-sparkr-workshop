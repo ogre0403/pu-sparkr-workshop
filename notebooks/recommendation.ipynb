{
 "metadata": {
  "kernelspec": {
   "display_name": "Python 2",
   "language": "python",
   "name": "python2"
  },
  "language_info": {
   "codemirror_mode": {
    "name": "ipython",
    "version": 2
   },
   "file_extension": ".py",
   "mimetype": "text/x-python",
   "name": "python",
   "nbconvert_exporter": "python",
   "pygments_lexer": "ipython2",
   "version": "2.7.11"
  },
  "name": ""
 },
 "nbformat": 3,
 "nbformat_minor": 0,
 "worksheets": [
  {
   "cells": [
    {
     "cell_type": "code",
     "collapsed": true,
     "input": [
      "#\u6ce8\u610f\u4e8b\u9805:\n",
      "#\u7576\u60a8\u57f7\u884c\u672cNotebook\u7684\u7a0b\u5f0f\u5f8c\uff0c\u5982\u679c\u4f60\u8981\u95dc\u9589Notebook\uff0c\u8acb\u9078\u64c7\u9078\u55ae: File > Close and Halt    \u624d\u80fd\u78ba\u5be6\u505c\u6b62\u76ee\u524d\u6b63\u5728\u57f7\u884c\u7684\u7a0b\u5f0f\uff0c\u4e26\u4e14\u91cb\u653e\u8cc7\u6e90\n",
      "#\u5982\u679c\u60a8\u6c92\u6709\u4f7f\u7528\u4ee5\u4e0a\u65b9\u6cd5\uff0c\u53ea\u95dc\u9589\u6b64\u5206\u9801\uff0c\u7a0b\u5f0f\u4ecd\u5728\u57f7\u884c\uff0c\u672a\u91cb\u653e\u8cc7\u6e90\uff0c\u7576\u60a8\u958b\u555f\u4e26\u57f7\u884c\u5176\u4ed6\u7684Notebook\u6642\uff0c\u53ef\u80fd\u6703\u767c\u751f\u932f\u8aa4"
     ],
     "language": "python",
     "metadata": {},
     "outputs": [],
     "prompt_number": 1
    },
    {
     "cell_type": "heading",
     "level": 1,
     "metadata": {},
     "source": [
      "12.7\t\u5982\u4f55\u8cc7\u6599\u6e96\u5099?"
     ]
    },
    {
     "cell_type": "code",
     "collapsed": false,
     "input": [
      "sc.master"
     ],
     "language": "python",
     "metadata": {},
     "outputs": [],
     "prompt_number": 2
    },
    {
     "cell_type": "code",
     "collapsed": true,
     "input": [
      "global Path    \n",
      "if sc.master[0:5]==\"local\" :\n",
      "   Path=\"file:/home/hduser/pythonsparkexample/PythonProject/\"\n",
      "else:   \n",
      "   Path=\"hdfs://master:9000/user/hduser/\"\n",
      "#\u5982\u679c\u60a8\u8981\u5728cluster\u6a21\u5f0f\u57f7\u884c(hadoop yarn \u6216Spark Stand alone)\uff0c\u8acb\u4f9d\u7167\u66f8\u4e0a\u8aaa\u660e\uff0c\u5148\u4e0a\u50b3\u6a94\u6848\u81f3HDFS\u76ee\u9304"
     ],
     "language": "python",
     "metadata": {},
     "outputs": [],
     "prompt_number": 3
    },
    {
     "cell_type": "code",
     "collapsed": false,
     "input": [
      "rawUserData = sc.textFile(Path+\"data/u.data\")\n",
      "rawUserData.count()"
     ],
     "language": "python",
     "metadata": {},
     "outputs": [],
     "prompt_number": 4
    },
    {
     "cell_type": "code",
     "collapsed": false,
     "input": [
      "rawUserData.first()"
     ],
     "language": "python",
     "metadata": {},
     "outputs": [],
     "prompt_number": 5
    },
    {
     "cell_type": "code",
     "collapsed": false,
     "input": [
      "print rawUserData.first()"
     ],
     "language": "python",
     "metadata": {},
     "outputs": [],
     "prompt_number": 6
    },
    {
     "cell_type": "code",
     "collapsed": false,
     "input": [
      "rawUserData.take(5)"
     ],
     "language": "python",
     "metadata": {},
     "outputs": [],
     "prompt_number": 7
    },
    {
     "cell_type": "code",
     "collapsed": false,
     "input": [
      "for x in rawUserData.take(5): \n",
      "    print x"
     ],
     "language": "python",
     "metadata": {},
     "outputs": [],
     "prompt_number": 8
    },
    {
     "cell_type": "code",
     "collapsed": true,
     "input": [
      "from pyspark.mllib.recommendation import Rating"
     ],
     "language": "python",
     "metadata": {},
     "outputs": [],
     "prompt_number": 9
    },
    {
     "cell_type": "code",
     "collapsed": false,
     "input": [
      "rawRatings = rawUserData.map(lambda line: line.split(\"\\t\")[:3] )\n",
      "rawRatings.take(5)"
     ],
     "language": "python",
     "metadata": {},
     "outputs": [],
     "prompt_number": 10
    },
    {
     "cell_type": "code",
     "collapsed": false,
     "input": [
      "ratingsRDD = rawRatings.map(lambda x: (x[0],x[1],x[2]))\n",
      "ratingsRDD .take(5)"
     ],
     "language": "python",
     "metadata": {},
     "outputs": [],
     "prompt_number": 11
    },
    {
     "cell_type": "code",
     "collapsed": false,
     "input": [
      "numRatings = ratingsRDD.count()\n",
      "numRatings"
     ],
     "language": "python",
     "metadata": {},
     "outputs": [],
     "prompt_number": 12
    },
    {
     "cell_type": "code",
     "collapsed": false,
     "input": [
      "numUsers = ratingsRDD.map(lambda x: x[0] ).distinct().count()\n",
      "numUsers "
     ],
     "language": "python",
     "metadata": {},
     "outputs": [],
     "prompt_number": 13
    },
    {
     "cell_type": "code",
     "collapsed": false,
     "input": [
      "numMovies = ratingsRDD.map(lambda x: x[1]).distinct().count() \n",
      "numMovies"
     ],
     "language": "python",
     "metadata": {},
     "outputs": [],
     "prompt_number": 14
    },
    {
     "cell_type": "code",
     "collapsed": false,
     "input": [
      "ratingsRDD.persist()"
     ],
     "language": "python",
     "metadata": {},
     "outputs": [],
     "prompt_number": 15
    },
    {
     "cell_type": "heading",
     "level": 1,
     "metadata": {},
     "source": [
      "12.8\t\u5982\u4f55\u8a13\u7df4\u6a21\u578b? "
     ]
    },
    {
     "cell_type": "code",
     "collapsed": true,
     "input": [
      "from pyspark.mllib.recommendation import ALS"
     ],
     "language": "python",
     "metadata": {},
     "outputs": [],
     "prompt_number": 16
    },
    {
     "cell_type": "code",
     "collapsed": false,
     "input": [
      "model = ALS.train(ratingsRDD, 10, 10, 0.01)\n",
      "print model"
     ],
     "language": "python",
     "metadata": {},
     "outputs": [],
     "prompt_number": 17
    },
    {
     "cell_type": "code",
     "collapsed": false,
     "input": [
      "print model"
     ],
     "language": "python",
     "metadata": {},
     "outputs": [],
     "prompt_number": 18
    },
    {
     "cell_type": "heading",
     "level": 1,
     "metadata": {},
     "source": [
      "12.9\t\u5982\u4f55\u4f7f\u7528\u6a21\u578b\u9032\u884c\u63a8\u85a6?"
     ]
    },
    {
     "cell_type": "code",
     "collapsed": false,
     "input": [
      "model.recommendProducts(100,5)"
     ],
     "language": "python",
     "metadata": {},
     "outputs": [],
     "prompt_number": 19
    },
    {
     "cell_type": "code",
     "collapsed": false,
     "input": [
      "model.predict(100, 1141)"
     ],
     "language": "python",
     "metadata": {},
     "outputs": [],
     "prompt_number": 20
    },
    {
     "cell_type": "code",
     "collapsed": false,
     "input": [
      "model.recommendUsers(product=200,num=5)"
     ],
     "language": "python",
     "metadata": {},
     "outputs": [],
     "prompt_number": 21
    },
    {
     "cell_type": "heading",
     "level": 1,
     "metadata": {},
     "source": [
      "12.10\t\u986f\u793a\u63a8\u85a6\u7684\u96fb\u5f71\u7684\u540d\u7a31"
     ]
    },
    {
     "cell_type": "code",
     "collapsed": false,
     "input": [
      "itemRDD = sc.textFile(Path+\"data/u.item\")\n",
      "itemRDD.count()"
     ],
     "language": "python",
     "metadata": {},
     "outputs": [],
     "prompt_number": 22
    },
    {
     "cell_type": "code",
     "collapsed": false,
     "input": [
      "movieTitle= itemRDD.map( lambda line : line.split(\"|\"))     \\\n",
      "                                   .map(lambda a: (float(a[0]),a[1]))       \\\n",
      "                                   .collectAsMap()\n",
      "len(movieTitle)"
     ],
     "language": "python",
     "metadata": {},
     "outputs": [],
     "prompt_number": 23
    },
    {
     "cell_type": "code",
     "collapsed": false,
     "input": [
      "movieTitle.items()[:5]"
     ],
     "language": "python",
     "metadata": {},
     "outputs": [],
     "prompt_number": 24
    },
    {
     "cell_type": "code",
     "collapsed": false,
     "input": [
      "for i in range(1,6): \n",
      "    print str(i)+\":\"+movieTitle[i]"
     ],
     "language": "python",
     "metadata": {},
     "outputs": [],
     "prompt_number": 25
    },
    {
     "cell_type": "code",
     "collapsed": false,
     "input": [
      "movieTitle[5]"
     ],
     "language": "python",
     "metadata": {},
     "outputs": [],
     "prompt_number": 26
    },
    {
     "cell_type": "code",
     "collapsed": false,
     "input": [
      "recommendP= model.recommendProducts(100,5) \n",
      "for p in recommendP:\n",
      "    print  \"\u5c0d\u4f7f\u7528\u8005\"+ str(p[0]) +                    \\\n",
      "               \"\u63a8\u85a6\u96fb\u5f71\"+ str(movieTitle[p[1]]) + \\\n",
      "               \"\u63a8\u85a6\u8a55\u5206\"+ str(p[2])         "
     ],
     "language": "python",
     "metadata": {},
     "outputs": [],
     "prompt_number": 27
    }
   ],
   "metadata": {}
  }
 ]
}