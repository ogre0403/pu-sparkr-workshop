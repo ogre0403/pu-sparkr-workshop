{
 "cells": [
  {
   "cell_type": "code",
   "execution_count": null,
   "metadata": {
    "collapsed": false
   },
   "outputs": [],
   "source": [
    "library(SparkR, lib.loc = c(file.path(Sys.getenv(\"SPARK_HOME\"), \"R\", \"lib\")))\n",
    "sc <- sparkR.init(master = \"local[*]\")\n",
    "sparkR.session(master = \"local[*]\")"
   ]
  },
  {
   "cell_type": "markdown",
   "metadata": {},
   "source": [
    "# 使用 RDD 法\n",
    "[SparkR RDD API](http://amplab-extras.github.io/SparkR-pkg/rdocs/1.2/)\n",
    "\n",
    "**自Spark ver. 1.4後，SparkR不能直接使用RDD相關的操作，需加上`SparkR:::`才能使用。**"
   ]
  },
  {
   "cell_type": "markdown",
   "metadata": {},
   "source": [
    "將文字檔案內容讀到RDD裡。"
   ]
  },
  {
   "cell_type": "code",
   "execution_count": null,
   "metadata": {
    "collapsed": false
   },
   "outputs": [],
   "source": [
    "rdd <- SparkR:::textFile(sc, \"/opt/spark/README.md\")"
   ]
  },
  {
   "cell_type": "markdown",
   "metadata": {},
   "source": [
    "將每一行文字切割成多個單字。"
   ]
  },
  {
   "cell_type": "code",
   "execution_count": null,
   "metadata": {
    "collapsed": true
   },
   "outputs": [],
   "source": [
    "words <- SparkR:::flatMap(rdd, function(line) {\n",
    "  strsplit(line, \" \")[[1]]\n",
    "})"
   ]
  },
  {
   "cell_type": "markdown",
   "metadata": {},
   "source": [
    "針對每一個單字，產生`(word, 1)`這樣形式的鍵值組。"
   ]
  },
  {
   "cell_type": "code",
   "execution_count": null,
   "metadata": {
    "collapsed": true
   },
   "outputs": [],
   "source": [
    "wordCount <- SparkR:::lapply(words, function(word) {\n",
    "  list(word, 1)\n",
    "})"
   ]
  },
  {
   "cell_type": "markdown",
   "metadata": {},
   "source": [
    "將有相同單字的所有1累加起來。"
   ]
  },
  {
   "cell_type": "code",
   "execution_count": null,
   "metadata": {
    "collapsed": true
   },
   "outputs": [],
   "source": [
    "counts <- SparkR:::reduceByKey(wordCount, \"+\", 2)"
   ]
  },
  {
   "cell_type": "markdown",
   "metadata": {},
   "source": [
    "將RDD轉成R的list"
   ]
  },
  {
   "cell_type": "code",
   "execution_count": null,
   "metadata": {
    "collapsed": true
   },
   "outputs": [],
   "source": [
    "op <- SparkR:::collectRDD(counts)"
   ]
  },
  {
   "cell_type": "code",
   "execution_count": null,
   "metadata": {
    "collapsed": false
   },
   "outputs": [],
   "source": [
    "op"
   ]
  },
  {
   "cell_type": "markdown",
   "metadata": {
    "collapsed": true
   },
   "source": [
    "# 使用 DataFrame 法\n",
    "\n",
    "[SparkR DataFrame API](http://spark.apache.org/docs/latest/api/R/index.html)\n",
    "\n",
    "目前SparkR主要是以DataFrame做為操作方法，後續所有範例都以DataFrame API為主。"
   ]
  },
  {
   "cell_type": "markdown",
   "metadata": {},
   "source": [
    "將檔案讀到DataFrame"
   ]
  },
  {
   "cell_type": "code",
   "execution_count": null,
   "metadata": {
    "collapsed": false
   },
   "outputs": [],
   "source": [
    "df <- read.text('/opt/spark/README.md')\n",
    "head(df)"
   ]
  },
  {
   "cell_type": "markdown",
   "metadata": {},
   "source": [
    "分割出一行文字內所有的單字，構成另一個DataFrame"
   ]
  },
  {
   "cell_type": "code",
   "execution_count": null,
   "metadata": {
    "collapsed": false
   },
   "outputs": [],
   "source": [
    "word <-unlist(strsplit(collect(select(df, \"value\"))[,], \" \"))\n",
    "word_df <- as.DataFrame(data.frame(word))\n",
    "head(word_df)"
   ]
  },
  {
   "cell_type": "markdown",
   "metadata": {},
   "source": [
    "將`word_df`裡相同word的單字群聚在一起後，再計算有多少個。"
   ]
  },
  {
   "cell_type": "code",
   "execution_count": null,
   "metadata": {
    "collapsed": false
   },
   "outputs": [],
   "source": [
    "word_counts <- summarize(groupBy(word_df, word_df$word), count = n(word_df$word))\n",
    "head(word_counts)"
   ]
  },
  {
   "cell_type": "markdown",
   "metadata": {},
   "source": [
    "依`count`的欄位排序後顯示。"
   ]
  },
  {
   "cell_type": "code",
   "execution_count": null,
   "metadata": {
    "collapsed": false
   },
   "outputs": [],
   "source": [
    "head(arrange(word_counts, desc(word_counts$count)))"
   ]
  },
  {
   "cell_type": "code",
   "execution_count": null,
   "metadata": {
    "collapsed": true
   },
   "outputs": [],
   "source": []
  }
 ],
 "metadata": {
  "kernelspec": {
   "display_name": "R",
   "language": "R",
   "name": "ir"
  },
  "language_info": {
   "codemirror_mode": "r",
   "file_extension": ".r",
   "mimetype": "text/x-r-source",
   "name": "R",
   "pygments_lexer": "r",
   "version": "3.4.0"
  }
 },
 "nbformat": 4,
 "nbformat_minor": 0
}
