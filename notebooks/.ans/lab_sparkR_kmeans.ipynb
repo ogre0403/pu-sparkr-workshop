{
 "cells": [
  {
   "cell_type": "markdown",
   "metadata": {},
   "source": [
    "### 載入SparkR"
   ]
  },
  {
   "cell_type": "code",
   "execution_count": null,
   "metadata": {
    "collapsed": false
   },
   "outputs": [],
   "source": [
    "library(SparkR, lib.loc = c(file.path(Sys.getenv(\"SPARK_HOME\"), \"R\", \"lib\")))\n",
    "sparkR.session(master = \"local[*]\")"
   ]
  },
  {
   "cell_type": "markdown",
   "metadata": {},
   "source": [
    "### 讀入csv檔產生SparkDataFrame"
   ]
  },
  {
   "cell_type": "code",
   "execution_count": null,
   "metadata": {
    "collapsed": true
   },
   "outputs": [],
   "source": [
    "data <- file.path('', 'home','spark','pu_workshop','kmeans_data.csv')"
   ]
  },
  {
   "cell_type": "code",
   "execution_count": null,
   "metadata": {
    "collapsed": true
   },
   "outputs": [],
   "source": [
    "data_df <- read.df(\n",
    "    data, \n",
    "    header='true', \n",
    "    source = \"com.databricks.spark.csv\", \n",
    "    inferSchema='true')"
   ]
  },
  {
   "cell_type": "code",
   "execution_count": null,
   "metadata": {
    "collapsed": false
   },
   "outputs": [],
   "source": [
    "head(data_df)"
   ]
  },
  {
   "cell_type": "code",
   "execution_count": null,
   "metadata": {
    "collapsed": false
   },
   "outputs": [],
   "source": [
    "printSchema(data_df)"
   ]
  },
  {
   "cell_type": "markdown",
   "metadata": {},
   "source": [
    "### 使用spark.kmeans()進行training"
   ]
  },
  {
   "cell_type": "code",
   "execution_count": null,
   "metadata": {
    "collapsed": true
   },
   "outputs": [],
   "source": [
    "kmeansModel <- spark.kmeans(data_df, ~ x + y,k = 3)"
   ]
  },
  {
   "cell_type": "code",
   "execution_count": null,
   "metadata": {
    "collapsed": false
   },
   "outputs": [],
   "source": [
    "summary(kmeansModel)"
   ]
  },
  {
   "cell_type": "markdown",
   "metadata": {},
   "source": [
    "# 畫出分群結果"
   ]
  },
  {
   "cell_type": "code",
   "execution_count": null,
   "metadata": {
    "collapsed": false
   },
   "outputs": [],
   "source": [
    "pred <- collect(summary(kmeansModel)$cluster)\n",
    "pred$prediction <- pred$prediction +1\n",
    "\n",
    "local_df <- collect(data_df)"
   ]
  },
  {
   "cell_type": "code",
   "execution_count": null,
   "metadata": {
    "collapsed": false
   },
   "outputs": [],
   "source": [
    "plot(local_df[c(\"x\", \"y\")], col=pred$prediction)\n",
    "points(summary(kmeansModel)$coefficients[,c(\"x\", \"y\")], col=4, pch=8, cex=2)\n",
    "\n",
    "# 輔助線\n",
    "x <- -3:3\n",
    "y <- c(.5,.5,.5,.5,.5,.5,.5)\n",
    "lines(x, y)\n",
    "\n",
    "y<- -0.5:1.5\n",
    "x<- c(-1,-1,-1)\n",
    "lines(x, y)\n",
    "\n",
    "y<- -0.5:1.5\n",
    "x<- c(1,1,1)\n",
    "lines(x, y)"
   ]
  },
  {
   "cell_type": "markdown",
   "metadata": {},
   "source": [
    "### 使用ggplot2將資料點畫出"
   ]
  },
  {
   "cell_type": "code",
   "execution_count": null,
   "metadata": {
    "collapsed": true
   },
   "outputs": [],
   "source": [
    "library(ggplot2)"
   ]
  },
  {
   "cell_type": "code",
   "execution_count": null,
   "metadata": {
    "collapsed": false
   },
   "outputs": [],
   "source": [
    "p1 <- collect(select(filter(data_df, \"cluster = 1\"), \"x\", \"y\"))\n",
    "p2 <- collect(select(filter(data_df, \"cluster = 2\"), \"x\", \"y\"))\n",
    "p3 <- collect(select(filter(data_df, \"cluster = 3\"), \"x\", \"y\"))"
   ]
  },
  {
   "cell_type": "code",
   "execution_count": null,
   "metadata": {
    "collapsed": false
   },
   "outputs": [],
   "source": [
    "c1 <- ggplot(data=p1, aes(x=x, y=y)) + geom_point(aes(color=\"red\"))\n",
    "c2 <- c1 +  geom_point(data = p2, aes(x=x, y= y, color = \"blue\"))\n",
    "c3 <- c2 + geom_point(data = p3, aes(x=x, y= y, color = \"green\"))\n",
    "c3"
   ]
  },
  {
   "cell_type": "code",
   "execution_count": null,
   "metadata": {
    "collapsed": false
   },
   "outputs": [],
   "source": [
    "centers <- data.frame(summary(kmeansModel)$coefficients)\n",
    "centers"
   ]
  },
  {
   "cell_type": "code",
   "execution_count": null,
   "metadata": {
    "collapsed": true
   },
   "outputs": [],
   "source": []
  }
 ],
 "metadata": {
  "kernelspec": {
   "display_name": "R",
   "language": "R",
   "name": "ir"
  },
  "language_info": {
   "codemirror_mode": "r",
   "file_extension": ".r",
   "mimetype": "text/x-r-source",
   "name": "R",
   "pygments_lexer": "r",
   "version": "3.4.0"
  }
 },
 "nbformat": 4,
 "nbformat_minor": 0
}
